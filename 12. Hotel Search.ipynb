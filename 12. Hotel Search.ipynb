{
 "cells": [
  {
   "cell_type": "markdown",
   "metadata": {},
   "source": [
    "### Description of the Project\n",
    "\n",
    "Company XYZ is a Online Travel Agent site, such as Expedia, Booking.com, etc.\n",
    "\n",
    "You are asked to:\n",
    "\n",
    "* Create a clean data set where each column is a field in the URL, each row is a given search and the cells are the corresponding URL values. And answer the question: for each search query, how many amenities were selected?\n",
    "\n",
    "* Create a metric to find the city with the worst search algorithm."
   ]
  },
  {
   "cell_type": "markdown",
   "metadata": {},
   "source": [
    "### 1. Read Data"
   ]
  },
  {
   "cell_type": "code",
   "execution_count": 1,
   "metadata": {},
   "outputs": [],
   "source": [
    "import pandas as pd\n",
    "import numpy as np\n",
    "import matplotlib.pyplot as plt"
   ]
  },
  {
   "cell_type": "code",
   "execution_count": 2,
   "metadata": {},
   "outputs": [],
   "source": [
    "s = \"http://www.mysearchforhotels.com/shop/hotelsearch?\"\n",
    "lst = []\n",
    "with open(\"../dataset/url_list.txt\") as f:\n",
    "    for line in f:\n",
    "        res = line.replace(s, \"\").replace(\"\\n\",\"\").split(\"&\")\n",
    "        d = {item.split(\"=\")[0][6:]: item.split(\"=\")[1] for item in res}\n",
    "        lst.append(d)"
   ]
  },
  {
   "cell_type": "code",
   "execution_count": 3,
   "metadata": {},
   "outputs": [
    {
     "data": {
      "text/html": [
       "<div>\n",
       "<style scoped>\n",
       "    .dataframe tbody tr th:only-of-type {\n",
       "        vertical-align: middle;\n",
       "    }\n",
       "\n",
       "    .dataframe tbody tr th {\n",
       "        vertical-align: top;\n",
       "    }\n",
       "\n",
       "    .dataframe thead th {\n",
       "        text-align: right;\n",
       "    }\n",
       "</style>\n",
       "<table border=\"1\" class=\"dataframe\">\n",
       "  <thead>\n",
       "    <tr style=\"text-align: right;\">\n",
       "      <th></th>\n",
       "      <th>checkin</th>\n",
       "      <th>stars_4</th>\n",
       "      <th>min_score</th>\n",
       "      <th>adults</th>\n",
       "      <th>city</th>\n",
       "      <th>checkout</th>\n",
       "      <th>search_page</th>\n",
       "      <th>stars_3</th>\n",
       "      <th>customMaximumPriceFilter</th>\n",
       "      <th>stars_5</th>\n",
       "      <th>freeCancellation</th>\n",
       "      <th>stars_2</th>\n",
       "      <th>children</th>\n",
       "      <th>max_score</th>\n",
       "      <th>couponCode</th>\n",
       "      <th>stars_1</th>\n",
       "      <th>customMinimumPriceFilter</th>\n",
       "      <th>amenities</th>\n",
       "    </tr>\n",
       "  </thead>\n",
       "  <tbody>\n",
       "    <tr>\n",
       "      <th>0</th>\n",
       "      <td>2015-09-19</td>\n",
       "      <td>yes</td>\n",
       "      <td>4</td>\n",
       "      <td>3</td>\n",
       "      <td>New_York</td>\n",
       "      <td>2015-09-20</td>\n",
       "      <td>1</td>\n",
       "      <td>NaN</td>\n",
       "      <td>NaN</td>\n",
       "      <td>NaN</td>\n",
       "      <td>NaN</td>\n",
       "      <td>NaN</td>\n",
       "      <td>NaN</td>\n",
       "      <td>NaN</td>\n",
       "      <td>NaN</td>\n",
       "      <td>NaN</td>\n",
       "      <td>NaN</td>\n",
       "      <td>NaN</td>\n",
       "    </tr>\n",
       "    <tr>\n",
       "      <th>1</th>\n",
       "      <td>2015-09-14</td>\n",
       "      <td>NaN</td>\n",
       "      <td>4</td>\n",
       "      <td>3</td>\n",
       "      <td>London</td>\n",
       "      <td>2015-09-15</td>\n",
       "      <td>1</td>\n",
       "      <td>yes</td>\n",
       "      <td>NaN</td>\n",
       "      <td>NaN</td>\n",
       "      <td>NaN</td>\n",
       "      <td>NaN</td>\n",
       "      <td>NaN</td>\n",
       "      <td>NaN</td>\n",
       "      <td>NaN</td>\n",
       "      <td>NaN</td>\n",
       "      <td>NaN</td>\n",
       "      <td>NaN</td>\n",
       "    </tr>\n",
       "    <tr>\n",
       "      <th>2</th>\n",
       "      <td>2015-09-26</td>\n",
       "      <td>yes</td>\n",
       "      <td>5</td>\n",
       "      <td>2</td>\n",
       "      <td>New_York</td>\n",
       "      <td>2015-09-27</td>\n",
       "      <td>1</td>\n",
       "      <td>NaN</td>\n",
       "      <td>175</td>\n",
       "      <td>NaN</td>\n",
       "      <td>NaN</td>\n",
       "      <td>NaN</td>\n",
       "      <td>NaN</td>\n",
       "      <td>NaN</td>\n",
       "      <td>NaN</td>\n",
       "      <td>NaN</td>\n",
       "      <td>NaN</td>\n",
       "      <td>NaN</td>\n",
       "    </tr>\n",
       "    <tr>\n",
       "      <th>3</th>\n",
       "      <td>2015-09-02</td>\n",
       "      <td>yes</td>\n",
       "      <td>4</td>\n",
       "      <td>1</td>\n",
       "      <td>Hong_Kong</td>\n",
       "      <td>2015-09-03</td>\n",
       "      <td>1</td>\n",
       "      <td>NaN</td>\n",
       "      <td>NaN</td>\n",
       "      <td>yes</td>\n",
       "      <td>NaN</td>\n",
       "      <td>NaN</td>\n",
       "      <td>NaN</td>\n",
       "      <td>NaN</td>\n",
       "      <td>NaN</td>\n",
       "      <td>NaN</td>\n",
       "      <td>NaN</td>\n",
       "      <td>NaN</td>\n",
       "    </tr>\n",
       "    <tr>\n",
       "      <th>4</th>\n",
       "      <td>2015-09-20</td>\n",
       "      <td>NaN</td>\n",
       "      <td>5</td>\n",
       "      <td>3</td>\n",
       "      <td>London</td>\n",
       "      <td>2015-09-29</td>\n",
       "      <td>1</td>\n",
       "      <td>NaN</td>\n",
       "      <td>275</td>\n",
       "      <td>NaN</td>\n",
       "      <td>NaN</td>\n",
       "      <td>NaN</td>\n",
       "      <td>NaN</td>\n",
       "      <td>NaN</td>\n",
       "      <td>NaN</td>\n",
       "      <td>NaN</td>\n",
       "      <td>NaN</td>\n",
       "      <td>NaN</td>\n",
       "    </tr>\n",
       "  </tbody>\n",
       "</table>\n",
       "</div>"
      ],
      "text/plain": [
       "      checkin stars_4 min_score adults       city    checkout search_page  \\\n",
       "0  2015-09-19     yes         4      3   New_York  2015-09-20           1   \n",
       "1  2015-09-14     NaN         4      3     London  2015-09-15           1   \n",
       "2  2015-09-26     yes         5      2   New_York  2015-09-27           1   \n",
       "3  2015-09-02     yes         4      1  Hong_Kong  2015-09-03           1   \n",
       "4  2015-09-20     NaN         5      3     London  2015-09-29           1   \n",
       "\n",
       "  stars_3 customMaximumPriceFilter stars_5 freeCancellation stars_2 children  \\\n",
       "0     NaN                      NaN     NaN              NaN     NaN      NaN   \n",
       "1     yes                      NaN     NaN              NaN     NaN      NaN   \n",
       "2     NaN                      175     NaN              NaN     NaN      NaN   \n",
       "3     NaN                      NaN     yes              NaN     NaN      NaN   \n",
       "4     NaN                      275     NaN              NaN     NaN      NaN   \n",
       "\n",
       "  max_score couponCode stars_1 customMinimumPriceFilter amenities  \n",
       "0       NaN        NaN     NaN                      NaN       NaN  \n",
       "1       NaN        NaN     NaN                      NaN       NaN  \n",
       "2       NaN        NaN     NaN                      NaN       NaN  \n",
       "3       NaN        NaN     NaN                      NaN       NaN  \n",
       "4       NaN        NaN     NaN                      NaN       NaN  "
      ]
     },
     "execution_count": 3,
     "metadata": {},
     "output_type": "execute_result"
    }
   ],
   "source": [
    "df = pd.DataFrame(lst)\n",
    "df[\"city\"] = df.city.str.replace(\"+\", \"_\").str.split(\",\").str[0]\n",
    "df.head()"
   ]
  },
  {
   "cell_type": "markdown",
   "metadata": {},
   "source": [
    "### 2. Tasks"
   ]
  },
  {
   "cell_type": "markdown",
   "metadata": {},
   "source": [
    "#### Task 1. Create a clean data set where each column is a field in the URL, each row is a given search and the cells are the corresponding URL values. And answer the question: for each search query, how many amenities were selected?"
   ]
  },
  {
   "cell_type": "code",
   "execution_count": 4,
   "metadata": {},
   "outputs": [
    {
     "data": {
      "text/plain": [
       "False    76973\n",
       "True       704\n",
       "Name: amenities, dtype: int64"
      ]
     },
     "execution_count": 4,
     "metadata": {},
     "output_type": "execute_result"
    }
   ],
   "source": [
    "df.amenities.notnull().value_counts()"
   ]
  },
  {
   "cell_type": "markdown",
   "metadata": {},
   "source": [
    "704 queries had amenities none null."
   ]
  },
  {
   "cell_type": "code",
   "execution_count": 5,
   "metadata": {},
   "outputs": [
    {
     "data": {
      "text/plain": [
       "internet       272\n",
       "yes_smoking    170\n",
       "shuttle        111\n",
       "yes_pet         90\n",
       "breakfast       39\n",
       "lounge          22\n",
       "Name: amenities, dtype: int64"
      ]
     },
     "execution_count": 5,
     "metadata": {},
     "output_type": "execute_result"
    }
   ],
   "source": [
    "df.amenities.value_counts()"
   ]
  },
  {
   "cell_type": "markdown",
   "metadata": {},
   "source": [
    "The above shows only one amenity can be selected in each search query, or just one selected amenity is logged for each search query. This needs technical investigation."
   ]
  },
  {
   "cell_type": "markdown",
   "metadata": {},
   "source": [
    "#### Task 2. Create a metric to find the city with the worst search algorithm."
   ]
  },
  {
   "cell_type": "code",
   "execution_count": 6,
   "metadata": {},
   "outputs": [],
   "source": [
    "df[\"search_page\"] = df.search_page.astype(int)"
   ]
  },
  {
   "cell_type": "code",
   "execution_count": 7,
   "metadata": {},
   "outputs": [
    {
     "data": {
      "text/html": [
       "<div>\n",
       "<style scoped>\n",
       "    .dataframe tbody tr th:only-of-type {\n",
       "        vertical-align: middle;\n",
       "    }\n",
       "\n",
       "    .dataframe tbody tr th {\n",
       "        vertical-align: top;\n",
       "    }\n",
       "\n",
       "    .dataframe thead th {\n",
       "        text-align: right;\n",
       "    }\n",
       "</style>\n",
       "<table border=\"1\" class=\"dataframe\">\n",
       "  <thead>\n",
       "    <tr style=\"text-align: right;\">\n",
       "      <th>city</th>\n",
       "      <th>Hong_Kong</th>\n",
       "      <th>London</th>\n",
       "      <th>New_York</th>\n",
       "      <th>San_Francisco</th>\n",
       "    </tr>\n",
       "  </thead>\n",
       "  <tbody>\n",
       "    <tr>\n",
       "      <th>1</th>\n",
       "      <td>10735</td>\n",
       "      <td>14775</td>\n",
       "      <td>16385</td>\n",
       "      <td>8105</td>\n",
       "    </tr>\n",
       "    <tr>\n",
       "      <th>2</th>\n",
       "      <td>766</td>\n",
       "      <td>5258</td>\n",
       "      <td>5329</td>\n",
       "      <td>284</td>\n",
       "    </tr>\n",
       "    <tr>\n",
       "      <th>3</th>\n",
       "      <td>168</td>\n",
       "      <td>2876</td>\n",
       "      <td>2779</td>\n",
       "      <td>41</td>\n",
       "    </tr>\n",
       "    <tr>\n",
       "      <th>4</th>\n",
       "      <td>62</td>\n",
       "      <td>1833</td>\n",
       "      <td>1728</td>\n",
       "      <td>12</td>\n",
       "    </tr>\n",
       "    <tr>\n",
       "      <th>5</th>\n",
       "      <td>27</td>\n",
       "      <td>1245</td>\n",
       "      <td>1143</td>\n",
       "      <td>7</td>\n",
       "    </tr>\n",
       "    <tr>\n",
       "      <th>6</th>\n",
       "      <td>13</td>\n",
       "      <td>846</td>\n",
       "      <td>777</td>\n",
       "      <td>0</td>\n",
       "    </tr>\n",
       "    <tr>\n",
       "      <th>7</th>\n",
       "      <td>10</td>\n",
       "      <td>570</td>\n",
       "      <td>534</td>\n",
       "      <td>0</td>\n",
       "    </tr>\n",
       "    <tr>\n",
       "      <th>8</th>\n",
       "      <td>4</td>\n",
       "      <td>364</td>\n",
       "      <td>372</td>\n",
       "      <td>0</td>\n",
       "    </tr>\n",
       "    <tr>\n",
       "      <th>9</th>\n",
       "      <td>1</td>\n",
       "      <td>202</td>\n",
       "      <td>233</td>\n",
       "      <td>0</td>\n",
       "    </tr>\n",
       "    <tr>\n",
       "      <th>10</th>\n",
       "      <td>0</td>\n",
       "      <td>89</td>\n",
       "      <td>104</td>\n",
       "      <td>0</td>\n",
       "    </tr>\n",
       "  </tbody>\n",
       "</table>\n",
       "</div>"
      ],
      "text/plain": [
       "city  Hong_Kong  London  New_York  San_Francisco\n",
       "1         10735   14775     16385           8105\n",
       "2           766    5258      5329            284\n",
       "3           168    2876      2779             41\n",
       "4            62    1833      1728             12\n",
       "5            27    1245      1143              7\n",
       "6            13     846       777              0\n",
       "7            10     570       534              0\n",
       "8             4     364       372              0\n",
       "9             1     202       233              0\n",
       "10            0      89       104              0"
      ]
     },
     "execution_count": 7,
     "metadata": {},
     "output_type": "execute_result"
    }
   ],
   "source": [
    "cities_cnt = df.groupby(\"city\").apply(lambda df: df.search_page.value_counts()).unstack().sort_index(axis=1)\\\n",
    ".fillna(0).astype(int).T\n",
    "cities_cnt"
   ]
  },
  {
   "cell_type": "code",
   "execution_count": 8,
   "metadata": {},
   "outputs": [
    {
     "data": {
      "text/html": [
       "<div>\n",
       "<style scoped>\n",
       "    .dataframe tbody tr th:only-of-type {\n",
       "        vertical-align: middle;\n",
       "    }\n",
       "\n",
       "    .dataframe tbody tr th {\n",
       "        vertical-align: top;\n",
       "    }\n",
       "\n",
       "    .dataframe thead th {\n",
       "        text-align: right;\n",
       "    }\n",
       "</style>\n",
       "<table border=\"1\" class=\"dataframe\">\n",
       "  <thead>\n",
       "    <tr style=\"text-align: right;\">\n",
       "      <th>city</th>\n",
       "      <th>Hong_Kong</th>\n",
       "      <th>London</th>\n",
       "      <th>New_York</th>\n",
       "      <th>San_Francisco</th>\n",
       "    </tr>\n",
       "  </thead>\n",
       "  <tbody>\n",
       "    <tr>\n",
       "      <th>1</th>\n",
       "      <td>NaN</td>\n",
       "      <td>NaN</td>\n",
       "      <td>NaN</td>\n",
       "      <td>NaN</td>\n",
       "    </tr>\n",
       "    <tr>\n",
       "      <th>2</th>\n",
       "      <td>0.071355</td>\n",
       "      <td>0.355871</td>\n",
       "      <td>0.325236</td>\n",
       "      <td>0.035040</td>\n",
       "    </tr>\n",
       "    <tr>\n",
       "      <th>3</th>\n",
       "      <td>0.219321</td>\n",
       "      <td>0.546976</td>\n",
       "      <td>0.521486</td>\n",
       "      <td>0.144366</td>\n",
       "    </tr>\n",
       "    <tr>\n",
       "      <th>4</th>\n",
       "      <td>0.369048</td>\n",
       "      <td>0.637344</td>\n",
       "      <td>0.621806</td>\n",
       "      <td>0.292683</td>\n",
       "    </tr>\n",
       "    <tr>\n",
       "      <th>5</th>\n",
       "      <td>0.435484</td>\n",
       "      <td>0.679214</td>\n",
       "      <td>0.661458</td>\n",
       "      <td>0.583333</td>\n",
       "    </tr>\n",
       "    <tr>\n",
       "      <th>6</th>\n",
       "      <td>0.481481</td>\n",
       "      <td>0.679518</td>\n",
       "      <td>0.679790</td>\n",
       "      <td>0.000000</td>\n",
       "    </tr>\n",
       "    <tr>\n",
       "      <th>7</th>\n",
       "      <td>0.769231</td>\n",
       "      <td>0.673759</td>\n",
       "      <td>0.687259</td>\n",
       "      <td>NaN</td>\n",
       "    </tr>\n",
       "    <tr>\n",
       "      <th>8</th>\n",
       "      <td>0.400000</td>\n",
       "      <td>0.638596</td>\n",
       "      <td>0.696629</td>\n",
       "      <td>NaN</td>\n",
       "    </tr>\n",
       "    <tr>\n",
       "      <th>9</th>\n",
       "      <td>0.250000</td>\n",
       "      <td>0.554945</td>\n",
       "      <td>0.626344</td>\n",
       "      <td>NaN</td>\n",
       "    </tr>\n",
       "    <tr>\n",
       "      <th>10</th>\n",
       "      <td>0.000000</td>\n",
       "      <td>0.440594</td>\n",
       "      <td>0.446352</td>\n",
       "      <td>NaN</td>\n",
       "    </tr>\n",
       "  </tbody>\n",
       "</table>\n",
       "</div>"
      ],
      "text/plain": [
       "city  Hong_Kong    London  New_York  San_Francisco\n",
       "1           NaN       NaN       NaN            NaN\n",
       "2      0.071355  0.355871  0.325236       0.035040\n",
       "3      0.219321  0.546976  0.521486       0.144366\n",
       "4      0.369048  0.637344  0.621806       0.292683\n",
       "5      0.435484  0.679214  0.661458       0.583333\n",
       "6      0.481481  0.679518  0.679790       0.000000\n",
       "7      0.769231  0.673759  0.687259            NaN\n",
       "8      0.400000  0.638596  0.696629            NaN\n",
       "9      0.250000  0.554945  0.626344            NaN\n",
       "10     0.000000  0.440594  0.446352            NaN"
      ]
     },
     "execution_count": 8,
     "metadata": {},
     "output_type": "execute_result"
    }
   ],
   "source": [
    "adjacent_page_ClickRatio = cities_cnt.apply(lambda s: (s.shift(-1)/s).shift(1) )\n",
    "adjacent_page_ClickRatio"
   ]
  },
  {
   "cell_type": "code",
   "execution_count": 10,
   "metadata": {},
   "outputs": [
    {
     "data": {
      "text/plain": [
       "Text(0.5, 0, 'Current Search Page')"
      ]
     },
     "execution_count": 10,
     "metadata": {},
     "output_type": "execute_result"
    },
    {
     "data": {
      "image/png": "[encoded data removed]",
      "text/plain": [
       "<Figure size 504x288 with 1 Axes>"
      ]
     },
     "metadata": {
      "needs_background": "light"
     },
     "output_type": "display_data"
    }
   ],
   "source": [
    "_ = adjacent_page_ClickRatio.plot(style=\"o\", figsize=(7,4))\n",
    "plt.title(\"APCR between the Current Search Page and the Previous Search Page\")\n",
    "plt.ylabel(\"Adjacent Page Clicks Ratio (APCR)\")\n",
    "plt.xlabel(\"Current Search Page\")"
   ]
  },
  {
   "cell_type": "markdown",
   "metadata": {},
   "source": [
    "The assumption is that if the user find satisfactory content in search page one, the user will not click into search page two. And it may work the same way between search page n and search page n+1 for a couple of additional pages. Beyond that, the user may become frustrated and the search pattern can be more random. Under this theory, the Adjacent Page Clicks Ratio (APCR), defined as (# clicks on Search Page n)/(# clicks on Search Page n-1) can be used to approximate Click Through Rate between adjacent pages at least for the first several search pages.\n",
    "\n",
    "Now I have calculated the APCR for all available search pages (n=2 to 10) for all available cities. With the APCR for n=2 to 5, I found London and New York consistently take the top two positions, with London being the top. This is a strong indication that London is the city with the worst search algorithm."
   ]
  },
  {
   "cell_type": "code",
   "execution_count": null,
   "metadata": {},
   "outputs": [],
   "source": []
  }
 ],
 "metadata": {
  "kernelspec": {
   "display_name": "Python 3",
   "language": "python",
   "name": "python3"
  },
  "language_info": {
   "codemirror_mode": {
    "name": "ipython",
    "version": 3
   },
   "file_extension": ".py",
   "mimetype": "text/x-python",
   "name": "python",
   "nbconvert_exporter": "python",
   "pygments_lexer": "ipython3",
   "version": "3.7.6"
  }
 },
 "nbformat": 4,
 "nbformat_minor": 4
}
