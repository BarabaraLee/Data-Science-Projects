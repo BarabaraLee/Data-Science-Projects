{
 "cells": [
  {
   "cell_type": "markdown",
   "metadata": {},
   "source": [
    "## Data Preparation"
   ]
  },
  {
   "cell_type": "markdown",
   "metadata": {},
   "source": [
    "The data preparation part for this problem is the same (code is improved) as the last question. Here I need to collect the turnstile information of 2011, 2012 and 2013."
   ]
  },
  {
   "cell_type": "code",
   "execution_count": 1,
   "metadata": {},
   "outputs": [],
   "source": [
    "import numpy as np\n",
    "import bisect\n",
    "import datetime\n",
    "station_name = {}\n",
    "fp = open(\"Remote-Booth-Station.csv\", 'r')\n",
    "for line in fp:\n",
    "    line = line.strip().split(',')\n",
    "    station_name['%s_%s' % (line[1], line[0])] = line[2]\n",
    "fp.close()\n",
    "\n",
    "\n",
    "class turnstile:\n",
    "    days_per_year = 365\n",
    "    blocks_per_day = 6\n",
    "    nan = False\n",
    "    __overall_nanPercentage__ = 0.5  # less than 50% valid log, this turnstile will be ignored in further calculation\n",
    "    __oneblock_nanPercentage__ = 0.2  # less than 20% valid log in a time block, the NaN days will be given value 0\n",
    "    __max_possible__ = 50000  # max possible passengers to exit/enter this turnstile\n",
    "    __max_downtime__ = 86400  # missing value longer then two days, won't do interpolations\n",
    "    __data_exception_times__ = 10.0  # if one value is 10 times larger than its average value, abandon this data\n",
    "    def __init__(self, line_list, year):\n",
    "        __temp_line1__ = line_list[0].split(',')\n",
    "        self.year = year\n",
    "        self.days_per_year = (datetime.datetime(year+1, 1, 1)-datetime.datetime(year,1,1)).days\n",
    "        self.CA = __temp_line1__[0]\n",
    "        self.UNIT = __temp_line1__[1]\n",
    "        self.SCP = __temp_line1__[2]\n",
    "        self.ENTRY = self.get_raw_entry(line_list)\n",
    "        self.EXIT = self.get_raw_exit(line_list)\n",
    "        self.entry_sum = np.sum(self.ENTRY)\n",
    "        self.exit_sum = np.sum(self.EXIT)\n",
    "        self.busyness = self.entry_sum + self.exit_sum\n",
    "        self.station_name = self.get_station_name()\n",
    "\n",
    "    def get_station_name(self):\n",
    "        station_code = self.CA + '_' + self.UNIT\n",
    "        if station_code in station_name:\n",
    "            return station_name[station_code]\n",
    "        else:\n",
    "            return \"Unknown\"\n",
    "\n",
    "    def get_cumu_list(self, raw_list):\n",
    "        list_cum = np.zeros(self.days_per_year * self.blocks_per_day + 1, dtype=float)\n",
    "        list_cum.fill(np.NaN)\n",
    "        init_time = '%d-01-01 00:00:00' % self.year\n",
    "        end_time = '%d-01-01 00:00:00' % (self.year + 1)\n",
    "        temp_time = datetime.datetime.strptime(init_time, '%Y-%m-%d %H:%M:%S')\n",
    "        count = 0\n",
    "        while str(temp_time) <= end_time:\n",
    "            neigh = bisect.bisect(raw_list, str(temp_time))\n",
    "            inter_val = self.GetInterpT_V(raw_list[neigh - 1: neigh + 1], temp_time)\n",
    "            list_cum[count] = inter_val\n",
    "            count += 1\n",
    "            temp_time += datetime.timedelta(hours=4)\n",
    "        return self.get_delta_list(list_cum)\n",
    "\n",
    "    def GetInterpT_V(self, timeab, temp_time):\n",
    "        # timeab = [\"time1val1\", \"time2val2\"]\n",
    "        if len(timeab) < 2:\n",
    "            return np.NaN\n",
    "        time2, value2 = timeab[1].split(',')\n",
    "        if str(temp_time) == time2:\n",
    "            return int(value2)\n",
    "        time1, value1 = timeab[0].split(',')\n",
    "        if str(temp_time) == time1:\n",
    "            return int(value1)\n",
    "        if value1 == '' or value2 == '':\n",
    "            return np.NaN\n",
    "        if value1 == value2:\n",
    "            return int(value1)\n",
    "        value1, value2 = int(value1), int(value2)\n",
    "        if value2 < value1:\n",
    "            return np.NaN\n",
    "        time1 = datetime.datetime.strptime(time1, '%Y-%m-%d %H:%M:%S')\n",
    "        time2 = datetime.datetime.strptime(time2, '%Y-%m-%d %H:%M:%S')\n",
    "        time1 = (temp_time - time1).total_seconds()\n",
    "        time2 = (time2 - temp_time).total_seconds()\n",
    "        if time1 > self.__max_downtime__ or time2 > self.__max_downtime__:\n",
    "            return np.NaN\n",
    "        inter_value = value1 + (value2-value1) * float(time1) / (time1+time2)\n",
    "        # two-point linear interpolation\n",
    "        return int(inter_value)\n",
    "\n",
    "    def get_delta_list(self, cum_list):\n",
    "        delta_list = np.ndarray((self.days_per_year, self.blocks_per_day), dtype=float)\n",
    "        delta_list.fill(np.NaN)\n",
    "        nan_count = 0\n",
    "        for i in xrange(self.days_per_year):\n",
    "            for j in xrange(self.blocks_per_day):\n",
    "                index_in_cum = i*self.blocks_per_day+j\n",
    "                if np.isnan(cum_list[index_in_cum]) or np.isnan(cum_list[index_in_cum+1]):\n",
    "                    delta_list[i, j] = np.NaN\n",
    "                    nan_count += 1\n",
    "                else:\n",
    "                    delta = cum_list[index_in_cum+1] - cum_list[index_in_cum]\n",
    "                    if delta < 0 or delta > self.__max_possible__:\n",
    "                        delta_list[i, j] = np.NaN\n",
    "                        nan_count += 1\n",
    "                    else:\n",
    "                        delta_list[i, j] = delta\n",
    "        self.down_blocks = nan_count\n",
    "        if float(nan_count) / (self.days_per_year * self.blocks_per_day) > self.__overall_nanPercentage__:\n",
    "            self.nan = True\n",
    "        for j in xrange(self.blocks_per_day):\n",
    "            valid_values = [x for x in delta_list[:, j] if not np.isnan(x)]\n",
    "            if len(valid_values) == 0:\n",
    "                    delta_list[:, j] = 0\n",
    "                    continue\n",
    "            col_mean = np.mean(valid_values)\n",
    "            for i in xrange(self.days_per_year):\n",
    "                if np.isnan(delta_list[i, j]):\n",
    "                    if float(len(valid_values)) / self.days_per_year < self.__oneblock_nanPercentage__:\n",
    "                        delta_list[i, j] = 0\n",
    "                    else:\n",
    "                        delta_list[i, j] = col_mean\n",
    "                if delta_list[i, j] > col_mean * self.__data_exception_times__:\n",
    "                    valid_len = len(valid_values) - 1\n",
    "                    delta_list[i, j] = (col_mean*(valid_len+1) - delta_list[i, j])/valid_len\n",
    "        delta_list_int = np.ndarray((self.days_per_year, self.blocks_per_day), dtype=int)\n",
    "        for i in xrange(self.days_per_year):\n",
    "            for j in xrange(self.blocks_per_day):\n",
    "                delta_list_int[i][j] = int(delta_list[i][j])\n",
    "        return delta_list_int\n",
    "\n",
    "    def get_raw_entry(self, line_list):\n",
    "        raw_entry_list = []\n",
    "        for logs in line_list:\n",
    "            log = logs.split(',')\n",
    "            if len(log) < 7:\n",
    "                continue\n",
    "            raw_entry_list.append('%s %s,%s' % (log[3], log[4], log[5]))\n",
    "        return self.get_cumu_list(raw_entry_list)\n",
    "\n",
    "    def get_raw_exit(self, line_list):\n",
    "        raw_exit_list = []\n",
    "        for logs in line_list:\n",
    "            log = logs.split(',')\n",
    "            if len(log) < 7:\n",
    "                continue\n",
    "            raw_exit_list.append('%s %s,%s' % (log[3], log[4], log[6]))\n",
    "        return self.get_cumu_list(raw_exit_list)\n",
    "    \n",
    "    def __str__(self):\n",
    "        return '%s_%s_%s %d %s' % (self.CA, self.UNIT, self.SCP, self.business, self.station_name)"
   ]
  },
  {
   "cell_type": "code",
   "execution_count": 2,
   "metadata": {
    "scrolled": true
   },
   "outputs": [],
   "source": [
    "import os\n",
    "def split_log_lines2(input_filename, raw_data_list):\n",
    "    fp = open(input_filename, 'r')\n",
    "    for line in fp:\n",
    "        dat = line.strip().split(',')\n",
    "        if len(dat)==11:\n",
    "            date_temp = dat[6].split('/')\n",
    "            dat[6] = '-'.join(date_temp[2:] + date_temp[0: 2])\n",
    "            if dat[10] != 'EXITS':\n",
    "                raw_data_list.append(','.join(dat[0:3] + dat[6:8] + dat[9:11]))\n",
    "        else:\n",
    "            for i in range(3, len(dat), 5):\n",
    "                date_temp = dat[i].split('-')\n",
    "                dat[i] = '20' + '-'.join(date_temp[2: 3] + date_temp[0: 2])\n",
    "                raw_data_list.append(','.join(dat[0:3] + dat[i:i + 2] + dat[i + 3:i + 5]))\n",
    "    fp.close()\n",
    "def raw_data_list_f(year):\n",
    "    file_head = 'turnstile_%d' % (year%2000)\n",
    "    file_head1 = 'turnstile_%d' % (year%2000 + 1)\n",
    "    raw_data_list = []\n",
    "    logs_txt = [filename for filename in os.listdir(\n",
    "        './') if filename.find('.txt') >= 0]\n",
    "    logs_txt.sort()\n",
    "    logs_y = [filename for filename in logs_txt if filename.find(file_head) >= 0]\n",
    "    logs_y.append(logs_txt[bisect.bisect(logs_txt, file_head1)])\n",
    "    # print logs_y\n",
    "    for filename in logs_y:\n",
    "        split_log_lines2(filename, raw_data_list)\n",
    "    raw_data_list.sort()\n",
    "    return raw_data_list\n",
    "def turns_f(raw_data_list,year):\n",
    "    turns = {}\n",
    "    curr_turn = raw_data_list[0].split(',')\n",
    "    turn_start_index = 0\n",
    "    for i in xrange(len(raw_data_list)):\n",
    "        line = raw_data_list[i].split(',')\n",
    "        if line[0] != curr_turn[0] or line[1] != curr_turn[1] or line[2] != curr_turn[2]:\n",
    "            turns['_'.join(curr_turn[0:3])] = turnstile(raw_data_list[turn_start_index: i], year)\n",
    "            turn_start_index = i\n",
    "            if line[1] != curr_turn[1] and line[0] != curr_turn[0] and np.random.random() < 0.1:\n",
    "                print '{percent:.1%}'.format(percent=float(i)/len(raw_data_list)),\n",
    "            curr_turn = line\n",
    "    return turns"
   ]
  },
  {
   "cell_type": "code",
   "execution_count": 3,
   "metadata": {},
   "outputs": [
    {
     "name": "stdout",
     "output_type": "stream",
     "text": [
      "1.3% 4.8% 5.6% 6.5% 6.7% 6.9% 8.9% 9.0% 11.3% 14.0% 14.5% 16.1% 17.2% 19.1% 20.7% 21.0% 27.2% 28.3% 29.1% 32.0% 32.1% 32.6% 34.1% 35.8% 39.6% 48.6% 52.4% 52.8% 53.1% 57.5% 67.9% 70.3% 71.1% 71.3% 71.8% 83.7% 86.0% 86.8% 87.4% 88.7% 89.5% 90.3% 90.8% 92.5% 94.6% 97.3% 99.9% 0.5% 0.9% 1.6% 2.3% 3.2% 5.9% 6.1% 12.9% 15.7% 17.1% 18.0% 19.5% 20.6% 28.1% 31.1% 33.5% 33.6% 34.0% 34.2% 34.6% 41.1% 43.0% 44.6% 47.7% 50.3% 54.5% 56.5% 62.0% 62.6% 63.6% 64.9% 68.6% 69.7% 69.9% 71.2% 73.6% 78.3% 83.2% 87.2% 90.2% 92.1% 93.7% 94.8% 1.3% 5.3% 6.3% 6.4% 6.8% 7.7% 10.6% 11.0% 11.2% 12.7% 13.3% 15.4% 18.4% 18.7% 19.2% 20.3% 20.9% 21.8% 22.7% 24.4% 29.2% 29.6% 30.8% 31.3% 32.6% 32.9% 33.8% 40.6% 41.8% 42.1% 43.6% 51.9% 52.4% 53.0% 58.0% 61.3% 61.4% 66.3% 68.6% 68.9% 74.2% 75.3% 76.2% 78.0% 85.9% 92.0% 95.9% 96.1% 98.9%\n"
     ]
    }
   ],
   "source": [
    "raw_data_list11=raw_data_list_f(2011)\n",
    "turns11=turns_f(raw_data_list11,2011)\n",
    "\n",
    "raw_data_list12=raw_data_list_f(2012)\n",
    "turns12=turns_f(raw_data_list12,2012)\n",
    "\n",
    "raw_data_list13=raw_data_list_f(2013)\n",
    "turns13=turns_f(raw_data_list13,2013)"
   ]
  },
  {
   "cell_type": "markdown",
   "metadata": {},
   "source": [
    "## 1. Let’s develop a model for 4hr-interval exit count by turnstile device; What features were explored? How does this model perform?"
   ]
  },
  {
   "cell_type": "markdown",
   "metadata": {},
   "source": [
    "=> 1. Events:\n",
    "The event feature identify if there's a special event happens near the location of the tenstile during a certain 4 hour periord. It is categorical with 2 levels. Here, 0 means there's no event and 1 means there's an event. In this model, I hard coded the 1's according to the schedule of the baseball home game in New York. (See the solution of question 2 in detail)\n",
    "\n",
    "=> 2. Hour: \n",
    "Includes 04:00:00,08:00:00,12:00:00,16:00:00,20:00:00,24:00:00, representing different period of a day. It is categorical with 6 levels.\n",
    "\n",
    "=> 3. Workday: \n",
    "It includes weekday (Monday-Friday) and weekend (Saturday, Sunday and Holidays). It is categorical with 2 levels. \n",
    "The holidays (part of weekends) include: \n",
    "(1) New Year's Day, Jan.1\n",
    "(2) Birthday of Martin Luther King Jr., Third Monday in Jan\n",
    "(3) Washington's Birthday, Third Monday in Feb\n",
    "(4) Memorial Day, Last Monday in May\n",
    "(5) Independence Day, Jul.4\n",
    "(6) Labor Day, First Monday in Sep\n",
    "(7) Columbus Day, Second Monday in Oct\n",
    "(8) Veterans Day, Nov.11\n",
    "(9) Thanksgiving Day, Fourth Thursday in Nov\n",
    "(10) Christmas Day, Dec.25\n",
    "\n",
    "=> 4. WDLagComb:\n",
    "It is the weekday Combination of yesterday and today. This feature represents the following 4 combinations:\n",
    "\n",
    "  Yesterday  Today      Level\n",
    "  \n",
    "  Weekday   Weekday    '11'       \n",
    "  Weekday   Weekend    '10'       \n",
    "  Weekend   Weekend    '00'       \n",
    "  Weekend   Weekday    '01' \n",
    "\n",
    "The levels are saved as integers, which will be converted into categoricals automatically later when fitting the linear model.\n",
    "\n",
    "=> 5. Month:\n",
    "It includes Jan, Feb, Mar, ..., December, repreenting different periods (more detailed than just 4 seasons) of a year. It is categorical with 12 levels.\n",
    "\n",
    "=> 6. Last24HAve:\n",
    "It is the average of the 6 previous data points (or the average of the last 24 hrs' count data since each data point gives the counts between the time point t and the time point t+4). It is continuous and represents the recency effect."
   ]
  },
  {
   "cell_type": "markdown",
   "metadata": {},
   "source": [
    "#### The model is: EXITS_T =  C(Workday) : C(Events) : C(Hour) + C(Month):C(Hour) + C(WDLagComb): Last24HAve + error\n",
    "C(.) means the wrapped feature is categorical. I will use the data from 2011 and 2012 to train a model for each turnstile. After the models are fitted, I can do forecast for each of the tenstile. I can simply sum up the prediction for each tenstile and sum up their results if the prediction for a collection of tenstiles are required."
   ]
  },
  {
   "cell_type": "code",
   "execution_count": 58,
   "metadata": {},
   "outputs": [],
   "source": [
    "%matplotlib inline\n",
    "import pandas as pd\n",
    "import matplotlib.pyplot as plt\n",
    "from scipy import stats\n",
    "import numpy as np\n",
    "from sklearn import datasets, linear_model\n",
    "import statsmodels.formula.api as smf\n",
    "import patsy"
   ]
  },
  {
   "cell_type": "code",
   "execution_count": 59,
   "metadata": {},
   "outputs": [],
   "source": [
    "Holiday = {}\n",
    "Holiday[2011] = ['01-17','02-21','05-30','07-04','09-05','10-10','11-11','11-24','12-26']\n",
    "Holiday[2012] = ['01-02','01-16','02-20','05-28','07-04','09-03','10-08','11-12','11-22','12-25']\n",
    "Holiday[2013] = ['01-01','01-21','02-18','05-27','07-04','09-02','10-14','11-11','11-28','12-25']\n",
    "for year in Holiday:\n",
    "    Holiday[year] = ['%d-%s' % (year, day) for day in Holiday[year]]"
   ]
  },
  {
   "cell_type": "code",
   "execution_count": 60,
   "metadata": {},
   "outputs": [],
   "source": [
    "NYY_gamedays = []\n",
    "def gameday_year(year):\n",
    "    filename = 'Events%d-NYYHome.csv' % year\n",
    "    fp = open(filename, 'r')\n",
    "    for line in fp:\n",
    "        month, day = map(lambda x: int(x), line.split(',')[1].strip('\"').split('/'))\n",
    "        gameday =  line.split(',')[1].strip('\"')\n",
    "        gameday = '%d-%2.2d-%2.2d' % (year, month, day)\n",
    "        NYY_gamedays.append(gameday)\n",
    "    fp.close()\n",
    "gameday_year(2011)\n",
    "gameday_year(2012)\n",
    "gameday_year(2013)\n",
    "#NYY_gamedays"
   ]
  },
  {
   "cell_type": "code",
   "execution_count": 61,
   "metadata": {
    "collapsed": true
   },
   "outputs": [],
   "source": [
    "dates = pd.date_range('01/01/2011',periods=(365+366+365)*6+1, freq='4H')\n",
    "dates13 = pd.date_range('01/01/2013',periods=365*6+1, freq='4H')"
   ]
  },
  {
   "cell_type": "code",
   "execution_count": 73,
   "metadata": {},
   "outputs": [],
   "source": [
    "Other_Events = [] #Other_Events are not in use in the current model.\n",
    "def turns_2013fitpred(turns_name):\n",
    "    if turns_name not in turns11 or turns_name not in turns12 or turns_name not in turns13:\n",
    "        return pd.DataFrame([[0,0]]*len(dates13),index=dates13,columns=['EXITS_T','Pred']).ix[6:-1]\n",
    "    \n",
    "    exits_list11=list(turns11[turns_name].EXIT.ravel())\n",
    "    exits_list12=list(turns12[turns_name].EXIT.ravel())\n",
    "    exits_list13=list(turns13[turns_name].EXIT.ravel())\n",
    "    exits_list13.append(0)\n",
    "\n",
    "    exits_list=exits_list11+exits_list12+exits_list13\n",
    "    \n",
    "    Holidays = Holiday[2011] + Holiday[2012] + Holiday[2013]\n",
    "    dta=pd.DataFrame(exits_list,index=dates)\n",
    "    \n",
    "    dta=pd.DataFrame(exits_list[:len(list(dates))],index=dates)\n",
    "    dta.columns=['EXITS_T']\n",
    "    dta['Workday']=[0 + (x.date().isoweekday() < 6 and str(x.date()) not in Holidays) for x in dates]\n",
    "    dta['Events']=[0 + 1 * (str(x.date()) in NYY_gamedays) + 2 * (str(x.date()) in Other_Events) for x in dates]\n",
    "    dta['Month'] = [x.month for x in dates]\n",
    "    dta['Hour'] = [x.hour for x in dates]\n",
    "    dta['Last24HAve'] = [0]*6 + [np.mean(dta.ix[i:i+6,0]) for i in xrange(len(dta)-6)]\n",
    "    dta['WDLag']=[0]*6 + [dta.ix[i,1] for i in xrange(len(dta)-6)]\n",
    "    dta['WDLagComb']=map(lambda x,y: ''.join([str(x),str(int(y))]),dta['Workday'],dta['WDLag'])\n",
    "    del dta['WDLag']\n",
    "    dta=dta.ix[:-1,:]\n",
    "    dta=dta.ix[6:,:]\n",
    "    Train=dta.ix[:(365*2+1)*6,:]\n",
    "    Test=dta.ix[(365*2+1)*6:,:] \n",
    "    \n",
    "    f='EXITS_T ~  C(Workday) : C(Events) : C(Hour) + C(Month):C(Hour) + WDLagComb: Last24HAve - 1'\n",
    "    #res=smf.ols(formula=f, data=Train).fit() #--Comment out for pure prediction\n",
    "    #print res.summary() #--Comment out for pure prediction\n",
    "    \n",
    "    Testy,TestX = patsy.dmatrices(f, Test, return_type='dataframe')\n",
    "    Trainy,TrainX = patsy.dmatrices(f, Train, return_type='dataframe')\n",
    "    regr = linear_model.LinearRegression().fit(TrainX, Trainy)\n",
    "    Testy['Pred']= regr.predict(TestX)\n",
    "    \n",
    "    return Testy\n",
    "    "
   ]
  },
  {
   "cell_type": "code",
   "execution_count": 63,
   "metadata": {},
   "outputs": [
    {
     "data": {
      "text/plain": [
       "'R326_R389_00-00-02'"
      ]
     },
     "execution_count": 63,
     "metadata": {},
     "output_type": "execute_result"
    }
   ],
   "source": [
    "RK=np.random.choice(turns13.keys())\n",
    "RK"
   ]
  },
  {
   "cell_type": "code",
   "execution_count": 64,
   "metadata": {},
   "outputs": [
    {
     "name": "stdout",
     "output_type": "stream",
     "text": [
      "                            OLS Regression Results                            \n",
      "==============================================================================\n",
      "Dep. Variable:                EXITS_T   R-squared:                       0.874\n",
      "Model:                            OLS   Adj. R-squared:                  0.871\n",
      "Method:                 Least Squares   F-statistic:                     319.5\n",
      "Date:                Tue, 19 Jan 2016   Prob (F-statistic):               0.00\n",
      "Time:                        08:03:37   Log-Likelihood:                -15234.\n",
      "No. Observations:                4386   AIC:                         3.066e+04\n",
      "Df Residuals:                    4292   BIC:                         3.126e+04\n",
      "Df Model:                          93                                         \n",
      "Covariance Type:            nonrobust                                         \n",
      "============================================================================================================\n",
      "                                               coef    std err          t      P>|t|      [95.0% Conf. Int.]\n",
      "------------------------------------------------------------------------------------------------------------\n",
      "C(Month)[1]:C(Hour)[0]                      -0.6302      1.494     -0.422      0.673        -3.559     2.299\n",
      "C(Month)[2]:C(Hour)[0]                      -1.4090      1.574     -0.895      0.371        -4.494     1.676\n",
      "C(Month)[3]:C(Hour)[0]                      -1.8792      1.562     -1.203      0.229        -4.942     1.184\n",
      "C(Month)[4]:C(Hour)[0]                      -0.3147      1.598     -0.197      0.844        -3.449     2.819\n",
      "C(Month)[5]:C(Hour)[0]                      -0.3620      1.593     -0.227      0.820        -3.485     2.761\n",
      "C(Month)[6]:C(Hour)[0]                       1.7596      1.621      1.085      0.278        -1.419     4.938\n",
      "C(Month)[7]:C(Hour)[0]                       2.9066      1.566      1.856      0.063        -0.163     5.976\n",
      "C(Month)[8]:C(Hour)[0]                       2.4675      1.557      1.585      0.113        -0.585     5.520\n",
      "C(Month)[9]:C(Hour)[0]                       0.4972      1.607      0.309      0.757        -2.654     3.648\n",
      "C(Month)[10]:C(Hour)[0]                     -1.5651      1.552     -1.008      0.313        -4.608     1.478\n",
      "C(Month)[11]:C(Hour)[0]                     -1.0507      1.535     -0.685      0.494        -4.060     1.958\n",
      "C(Month)[12]:C(Hour)[0]                     -0.2987      1.533     -0.195      0.846        -3.304     2.707\n",
      "C(Month)[1]:C(Hour)[4]                     -10.3328      1.498     -6.896      0.000       -13.270    -7.395\n",
      "C(Month)[2]:C(Hour)[4]                     -12.2727      1.580     -7.768      0.000       -15.370    -9.175\n",
      "C(Month)[3]:C(Hour)[4]                      -6.9612      1.567     -4.444      0.000       -10.032    -3.890\n",
      "C(Month)[4]:C(Hour)[4]                      -5.7497      1.602     -3.588      0.000        -8.891    -2.608\n",
      "C(Month)[5]:C(Hour)[4]                      -4.8261      1.597     -3.022      0.003        -7.957    -1.695\n",
      "C(Month)[6]:C(Hour)[4]                      -7.4168      1.628     -4.557      0.000       -10.608    -4.226\n",
      "C(Month)[7]:C(Hour)[4]                      -8.9469      1.567     -5.709      0.000       -12.019    -5.875\n",
      "C(Month)[8]:C(Hour)[4]                      -8.6770      1.559     -5.567      0.000       -11.733    -5.621\n",
      "C(Month)[9]:C(Hour)[4]                      -6.2707      1.610     -3.894      0.000        -9.428    -3.114\n",
      "C(Month)[10]:C(Hour)[4]                     -3.9083      1.555     -2.513      0.012        -6.957    -0.860\n",
      "C(Month)[11]:C(Hour)[4]                     -8.0693      1.540     -5.240      0.000       -11.088    -5.050\n",
      "C(Month)[12]:C(Hour)[4]                     -9.3867      1.538     -6.102      0.000       -12.403    -6.371\n",
      "C(Month)[1]:C(Hour)[8]                       0.4343      1.484      0.293      0.770        -2.475     3.344\n",
      "C(Month)[2]:C(Hour)[8]                       1.1166      1.565      0.713      0.476        -1.952     4.185\n",
      "C(Month)[3]:C(Hour)[8]                      -0.8260      1.549     -0.533      0.594        -3.863     2.211\n",
      "C(Month)[4]:C(Hour)[8]                      -1.9072      1.586     -1.203      0.229        -5.016     1.202\n",
      "C(Month)[5]:C(Hour)[8]                      -1.8057      1.581     -1.142      0.253        -4.905     1.294\n",
      "C(Month)[6]:C(Hour)[8]                      -0.6986      1.613     -0.433      0.665        -3.861     2.464\n",
      "C(Month)[7]:C(Hour)[8]                      -0.9428      1.553     -0.607      0.544        -3.988     2.102\n",
      "C(Month)[8]:C(Hour)[8]                      -0.2875      1.545     -0.186      0.852        -3.317     2.742\n",
      "C(Month)[9]:C(Hour)[8]                      -1.2236      1.593     -0.768      0.443        -4.347     1.900\n",
      "C(Month)[10]:C(Hour)[8]                     -1.2732      1.538     -0.828      0.408        -4.289     1.743\n",
      "C(Month)[11]:C(Hour)[8]                      2.4159      1.527      1.583      0.114        -0.577     5.409\n",
      "C(Month)[12]:C(Hour)[8]                      4.1136      1.524      2.699      0.007         1.125     7.102\n",
      "C(Month)[1]:C(Hour)[12]                      9.6318      1.461      6.591      0.000         6.767    12.497\n",
      "C(Month)[2]:C(Hour)[12]                     11.2498      1.540      7.305      0.000         8.231    14.269\n",
      "C(Month)[3]:C(Hour)[12]                     13.3389      1.522      8.764      0.000        10.355    16.323\n",
      "C(Month)[4]:C(Hour)[12]                     14.4790      1.562      9.272      0.000        11.417    17.541\n",
      "C(Month)[5]:C(Hour)[12]                     16.4896      1.560     10.569      0.000        13.431    19.548\n",
      "C(Month)[6]:C(Hour)[12]                     12.6286      1.589      7.946      0.000         9.513    15.744\n",
      "C(Month)[7]:C(Hour)[12]                      9.9710      1.530      6.518      0.000         6.972    12.970\n",
      "C(Month)[8]:C(Hour)[12]                      6.4366      1.523      4.226      0.000         3.451     9.422\n",
      "C(Month)[9]:C(Hour)[12]                     13.5575      1.569      8.641      0.000        10.481    16.634\n",
      "C(Month)[10]:C(Hour)[12]                    13.8501      1.514      9.151      0.000        10.883    16.817\n",
      "C(Month)[11]:C(Hour)[12]                    13.9816      1.500      9.320      0.000        11.040    16.923\n",
      "C(Month)[12]:C(Hour)[12]                     9.8250      1.493      6.579      0.000         6.897    12.753\n",
      "C(Month)[1]:C(Hour)[16]                     26.2677      1.424     18.447      0.000        23.476    29.059\n",
      "C(Month)[2]:C(Hour)[16]                     32.2599      1.501     21.496      0.000        29.318    35.202\n",
      "C(Month)[3]:C(Hour)[16]                     28.6924      1.479     19.404      0.000        25.793    31.591\n",
      "C(Month)[4]:C(Hour)[16]                     21.3890      1.517     14.097      0.000        18.414    24.364\n",
      "C(Month)[5]:C(Hour)[16]                     24.0156      1.519     15.805      0.000        21.037    26.995\n",
      "C(Month)[6]:C(Hour)[16]                     21.7114      1.549     14.015      0.000        18.674    24.749\n",
      "C(Month)[7]:C(Hour)[16]                     17.8832      1.491     11.998      0.000        14.961    20.805\n",
      "C(Month)[8]:C(Hour)[16]                     16.0850      1.485     10.830      0.000        13.173    18.997\n",
      "C(Month)[9]:C(Hour)[16]                     20.2084      1.531     13.202      0.000        17.207    23.209\n",
      "C(Month)[10]:C(Hour)[16]                    20.0182      1.471     13.605      0.000        17.134    22.903\n",
      "C(Month)[11]:C(Hour)[16]                    26.0568      1.462     17.818      0.000        23.190    28.924\n",
      "C(Month)[12]:C(Hour)[16]                    26.7172      1.452     18.401      0.000        23.871    29.564\n",
      "C(Month)[1]:C(Hour)[20]                      8.9174      1.370      6.510      0.000         6.232    11.603\n",
      "C(Month)[2]:C(Hour)[20]                     13.1924      1.443      9.145      0.000        10.364    16.021\n",
      "C(Month)[3]:C(Hour)[20]                     14.7517      1.417     10.410      0.000        11.974    17.530\n",
      "C(Month)[4]:C(Hour)[20]                     14.2201      1.460      9.742      0.000        11.358    17.082\n",
      "C(Month)[5]:C(Hour)[20]                     16.1987      1.464     11.068      0.000        13.329    19.068\n",
      "C(Month)[6]:C(Hour)[20]                     17.5374      1.492     11.751      0.000        14.612    20.463\n",
      "C(Month)[7]:C(Hour)[20]                     18.0032      1.438     12.522      0.000        15.184    20.822\n",
      "C(Month)[8]:C(Hour)[20]                     17.3758      1.432     12.133      0.000        14.568    20.183\n",
      "C(Month)[9]:C(Hour)[20]                     16.7429      1.477     11.335      0.000        13.847    19.639\n",
      "C(Month)[10]:C(Hour)[20]                    14.3530      1.419     10.117      0.000        11.572    17.134\n",
      "C(Month)[11]:C(Hour)[20]                     9.8035      1.411      6.949      0.000         7.038    12.569\n",
      "C(Month)[12]:C(Hour)[20]                    11.0593      1.392      7.942      0.000         8.329    13.789\n",
      "C(Events)[T.1]:C(Hour)[0]                   -2.0285      1.276     -1.590      0.112        -4.530     0.473\n",
      "C(Events)[T.1]:C(Hour)[4]                   -0.1050      1.276     -0.082      0.934        -2.607     2.397\n",
      "C(Events)[T.1]:C(Hour)[8]                    1.0889      1.276      0.853      0.394        -1.413     3.591\n",
      "C(Events)[T.1]:C(Hour)[12]                  -1.9597      1.276     -1.536      0.125        -4.462     0.542\n",
      "C(Events)[T.1]:C(Hour)[16]                  -0.7013      1.276     -0.550      0.583        -3.203     1.801\n",
      "C(Events)[T.1]:C(Hour)[20]                  -2.5670      1.277     -2.011      0.044        -5.070    -0.064\n",
      "C(Workday)[T.1]:C(Events)[0]:C(Hour)[0]     -6.0854      1.451     -4.193      0.000        -8.931    -3.240\n",
      "C(Workday)[T.1]:C(Events)[1]:C(Hour)[0]     -4.6475      1.815     -2.561      0.010        -8.205    -1.090\n",
      "C(Workday)[T.1]:C(Events)[0]:C(Hour)[4]      7.9786      1.454      5.489      0.000         5.129    10.828\n",
      "C(Workday)[T.1]:C(Events)[1]:C(Hour)[4]      6.7293      1.813      3.712      0.000         3.175    10.283\n",
      "C(Workday)[T.1]:C(Events)[0]:C(Hour)[8]      8.9624      1.443      6.210      0.000         6.133    11.792\n",
      "C(Workday)[T.1]:C(Events)[1]:C(Hour)[8]      7.1499      1.801      3.970      0.000         3.619    10.680\n",
      "C(Workday)[T.1]:C(Events)[0]:C(Hour)[12]    18.9664      1.425     13.308      0.000        16.172    21.760\n",
      "C(Workday)[T.1]:C(Events)[1]:C(Hour)[12]    22.4422      1.787     12.557      0.000        18.938    25.946\n",
      "C(Workday)[T.1]:C(Events)[0]:C(Hour)[16]    33.6767      1.399     24.073      0.000        30.934    36.419\n",
      "C(Workday)[T.1]:C(Events)[1]:C(Hour)[16]    36.2258      1.757     20.613      0.000        32.780    39.671\n",
      "C(Workday)[T.1]:C(Events)[0]:C(Hour)[20]     3.9115      1.369      2.857      0.004         1.228     6.595\n",
      "C(Workday)[T.1]:C(Events)[1]:C(Hour)[20]     8.6655      1.716      5.049      0.000         5.301    12.030\n",
      "WDLagComb[00]:Last24HAve                     0.5879      0.045     13.003      0.000         0.499     0.677\n",
      "WDLagComb[01]:Last24HAve                     0.5015      0.031     16.184      0.000         0.441     0.562\n",
      "WDLagComb[10]:Last24HAve                     0.6689      0.033     20.003      0.000         0.603     0.734\n",
      "WDLagComb[11]:Last24HAve                     0.5063      0.021     23.669      0.000         0.464     0.548\n",
      "==============================================================================\n",
      "Omnibus:                      487.182   Durbin-Watson:                   1.510\n",
      "Prob(Omnibus):                  0.000   Jarque-Bera (JB):             4260.861\n",
      "Skew:                          -0.133   Prob(JB):                         0.00\n",
      "Kurtosis:                       7.821   Cond. No.                     2.12e+03\n",
      "==============================================================================\n",
      "\n",
      "Warnings:\n",
      "[1] Standard Errors assume that the covariance matrix of the errors is correctly specified.\n",
      "[2] The condition number is large, 2.12e+03. This might indicate that there are\n",
      "strong multicollinearity or other numerical problems.\n"
     ]
    }
   ],
   "source": [
    "RK_res=turns_2013fitpred(RK)"
   ]
  },
  {
   "cell_type": "markdown",
   "metadata": {},
   "source": [
    "From the above table, we can see, for this perticular tenstile, the adjusted R-squared is 0.874, which looks good. The p-values in for most of the parameters are smaller than 0.05. ALso, since the Durbin-Watson statistic is not significantly smaller than 2, we conclude that the autocorrelation of the residuals is small with this model."
   ]
  },
  {
   "cell_type": "code",
   "execution_count": 65,
   "metadata": {},
   "outputs": [
    {
     "data": {
      "text/plain": [
       "<matplotlib.axes._subplots.AxesSubplot at 0x7f20dab20110>"
      ]
     },
     "execution_count": 65,
     "metadata": {},
     "output_type": "execute_result"
    },
    {
     "data": {
      "image/png": "[encoded data removed]",
      "text/plain": [
       "<matplotlib.figure.Figure at 0x7f20da90f910>"
      ]
     },
     "metadata": {},
     "output_type": "display_data"
    }
   ],
   "source": [
    "RK_res.ix[:200,:].plot()"
   ]
  },
  {
   "cell_type": "markdown",
   "metadata": {},
   "source": [
    "The figure above shows the true values and the corresponding predictions of the selected turstile from ‘2013-01-02 00:00:00’ to ‘2013-02-04 04:00:00’."
   ]
  },
  {
   "cell_type": "markdown",
   "metadata": {},
   "source": [
    "The following gives the Mean Average Error of the prediction on the 2013 exits data on the turnsteil 'R326_R389_00-00-02', which is 5.8521125 counts every 4 hour on average. (It is found the usage of some turnstiles starting with 'N' are relatively regular, and thus easy to model and predict. We should notice the model performance for different turnstiles might be different due to their locations.)"
   ]
  },
  {
   "cell_type": "code",
   "execution_count": 66,
   "metadata": {},
   "outputs": [
    {
     "data": {
      "text/plain": [
       "5.8521125303911603"
      ]
     },
     "execution_count": 66,
     "metadata": {},
     "output_type": "execute_result"
    }
   ],
   "source": [
    "from numpy import inf\n",
    "a=np.array(map(lambda y1,y2: np.abs(y1-y2), RK_res.ix[:,1],RK_res.ix[:,0]))\n",
    "a[a == inf] = 0\n",
    "MAE=np.mean(a)\n",
    "MAE"
   ]
  },
  {
   "cell_type": "markdown",
   "metadata": {},
   "source": [
    "## 2. What is our predicted exit count for R195 during the 16:00-20:00 interval on Friday September 6, 2013?"
   ]
  },
  {
   "cell_type": "markdown",
   "metadata": {},
   "source": [
    "One of the most important features ('Events') can be found from the following website, which one can find the schedule of the baseball home games at the New York Yankee Stadium in 2011, 2012 and 2013. This statium is very near the R195 turnstiles.\n",
    "http://newyork.yankees.mlb.com/schedule/sortable.jsp?c_id=nyy&year=2011"
   ]
  },
  {
   "cell_type": "code",
   "execution_count": 67,
   "metadata": {},
   "outputs": [
    {
     "data": {
      "text/plain": [
       "['R262A_R195_04-00-03',\n",
       " 'R262A_R195_04-00-02',\n",
       " 'N203_R195_00-00-04',\n",
       " 'R262_R195_03-03-02',\n",
       " 'N203_R195_00-03-03',\n",
       " 'N203_R195_00-03-02',\n",
       " 'N203_R195_00-03-01',\n",
       " 'N203_R195_00-03-00',\n",
       " 'N203_R195_00-03-05',\n",
       " 'N203_R195_00-03-04',\n",
       " 'R262A_R195_04-00-01',\n",
       " 'R262A_R195_04-00-00',\n",
       " 'R262A_R195_04-00-05',\n",
       " 'R262A_R195_04-00-04',\n",
       " 'N205_R195_02-00-02',\n",
       " 'N205_R195_02-00-03',\n",
       " 'N205_R195_02-00-00',\n",
       " 'N205_R195_02-00-01',\n",
       " 'R262_R195_03-00-02',\n",
       " 'R262_R195_03-00-00',\n",
       " 'R262_R195_03-00-01',\n",
       " 'N203_R195_00-00-02',\n",
       " 'N203_R195_00-00-03',\n",
       " 'N203_R195_00-00-00',\n",
       " 'N203_R195_00-00-01',\n",
       " 'N204_R195_01-00-01',\n",
       " 'R262B_R195_05-00-00',\n",
       " 'R262B_R195_05-00-05',\n",
       " 'R262B_R195_05-00-04',\n",
       " 'R262B_R195_05-00-03',\n",
       " 'R262B_R195_05-00-02',\n",
       " 'R262B_R195_05-00-01',\n",
       " 'N203_R195_00-05-01',\n",
       " 'N203_R195_00-05-00',\n",
       " 'R262_R195_03-03-01',\n",
       " 'R262_R195_03-06-00',\n",
       " 'R262_R195_03-06-01',\n",
       " 'R262_R195_03-03-00']"
      ]
     },
     "execution_count": 67,
     "metadata": {},
     "output_type": "execute_result"
    }
   ],
   "source": [
    "R195turns=[]\n",
    "for i in turns13:\n",
    "    if i.split('_')[1]=='R195':\n",
    "        R195turns.append(i)\n",
    "R195turns"
   ]
  },
  {
   "cell_type": "code",
   "execution_count": 74,
   "metadata": {
    "scrolled": true
   },
   "outputs": [],
   "source": [
    "TrueY=[]\n",
    "PredY=[]\n",
    "for i in R195turns:\n",
    "    fitpredtemp=turns_2013fitpred(i)\n",
    "    TrueY.append(fitpredtemp.ix['2013-09-05 16:00',0])\n",
    "    PredY.append(fitpredtemp.ix['2013-09-05 16:00',1])"
   ]
  },
  {
   "cell_type": "code",
   "execution_count": 75,
   "metadata": {},
   "outputs": [
    {
     "name": "stdout",
     "output_type": "stream",
     "text": [
      "13170.0\n",
      "11303.3144669\n"
     ]
    }
   ],
   "source": [
    "print np.sum(TrueY)\n",
    "print np.sum(PredY)"
   ]
  },
  {
   "cell_type": "markdown",
   "metadata": {},
   "source": [
    "The predicted value exit count for R195 is 11303.3144669, which is a little smaller than the true value count. This is because I only set up two levels for the 'Events' feature, where the model cannot distinguish the big events from other events."
   ]
  }
 ],
 "metadata": {
  "kernelspec": {
   "display_name": "Python 3",
   "language": "python",
   "name": "python3"
  },
  "language_info": {
   "codemirror_mode": {
    "name": "ipython",
    "version": 3
   },
   "file_extension": ".py",
   "mimetype": "text/x-python",
   "name": "python",
   "nbconvert_exporter": "python",
   "pygments_lexer": "ipython3",
   "version": "3.7.6"
  }
 },
 "nbformat": 4,
 "nbformat_minor": 1
}
