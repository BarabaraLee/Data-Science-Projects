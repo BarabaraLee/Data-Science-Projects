{
 "cells": [
  {
   "cell_type": "markdown",
   "metadata": {},
   "source": [
    "## Task 1 - Assess How Competitors and Promotions Influence Sales and Customer Count for the Mass-market Retailer"
   ]
  },
  {
   "cell_type": "code",
   "execution_count": 7,
   "metadata": {},
   "outputs": [],
   "source": [
    "%matplotlib notebook\n",
    "import numpy as np\n",
    "import pandas as pd\n",
    "from datetime import datetime, timedelta\n",
    "\n",
    "import matplotlib.pyplot as plt\n",
    "import pandas_profiling as pp\n",
    "\n",
    "import pickle\n",
    "from scipy import stats as st\n",
    "import statsmodels.formula.api as smf\n",
    "\n",
    "from IPython.core.interactiveshell import InteractiveShell\n",
    "InteractiveShell.ast_node_interactivity = \"all\"\n",
    "import warnings\n",
    "warnings.filterwarnings('ignore')"
   ]
  },
  {
   "cell_type": "markdown",
   "metadata": {},
   "source": [
    "### Task1.1 Read Data"
   ]
  },
  {
   "cell_type": "code",
   "execution_count": 2,
   "metadata": {},
   "outputs": [
    {
     "data": {
      "text/html": [
       "<div>\n",
       "<style scoped>\n",
       "    .dataframe tbody tr th:only-of-type {\n",
       "        vertical-align: middle;\n",
       "    }\n",
       "\n",
       "    .dataframe tbody tr th {\n",
       "        vertical-align: top;\n",
       "    }\n",
       "\n",
       "    .dataframe thead th {\n",
       "        text-align: right;\n",
       "    }\n",
       "</style>\n",
       "<table border=\"1\" class=\"dataframe\">\n",
       "  <thead>\n",
       "    <tr style=\"text-align: right;\">\n",
       "      <th></th>\n",
       "      <th>DayOfWeek</th>\n",
       "      <th>Date</th>\n",
       "      <th>Sales</th>\n",
       "      <th>Customers</th>\n",
       "      <th>Promo</th>\n",
       "      <th>StateHoliday</th>\n",
       "      <th>SchoolHoliday</th>\n",
       "    </tr>\n",
       "    <tr>\n",
       "      <th>Store</th>\n",
       "      <th></th>\n",
       "      <th></th>\n",
       "      <th></th>\n",
       "      <th></th>\n",
       "      <th></th>\n",
       "      <th></th>\n",
       "      <th></th>\n",
       "    </tr>\n",
       "  </thead>\n",
       "  <tbody>\n",
       "    <tr>\n",
       "      <th>1</th>\n",
       "      <td>5</td>\n",
       "      <td>2015-07-31</td>\n",
       "      <td>5263</td>\n",
       "      <td>555</td>\n",
       "      <td>1</td>\n",
       "      <td>0</td>\n",
       "      <td>1</td>\n",
       "    </tr>\n",
       "    <tr>\n",
       "      <th>2</th>\n",
       "      <td>5</td>\n",
       "      <td>2015-07-31</td>\n",
       "      <td>6064</td>\n",
       "      <td>625</td>\n",
       "      <td>1</td>\n",
       "      <td>0</td>\n",
       "      <td>1</td>\n",
       "    </tr>\n",
       "  </tbody>\n",
       "</table>\n",
       "</div>"
      ],
      "text/plain": [
       "       DayOfWeek       Date  Sales  Customers  Promo StateHoliday  \\\n",
       "Store                                                               \n",
       "1              5 2015-07-31   5263        555      1            0   \n",
       "2              5 2015-07-31   6064        625      1            0   \n",
       "\n",
       "      SchoolHoliday  \n",
       "Store                \n",
       "1                 1  \n",
       "2                 1  "
      ]
     },
     "execution_count": 2,
     "metadata": {},
     "output_type": "execute_result"
    }
   ],
   "source": [
    "sales_cust = pd.read_csv(\"../dataset/task1_data/sales_cust.csv\", index_col=\"Store\", parse_dates=[\"Date\"])\n",
    "sales_cust = sales_cust[sales_cust.Open == 1] # we don't need to learn \"Open\"'s effect on Sales or Customers.\n",
    "del sales_cust[\"Open\"]\n",
    "sales_cust[\"StateHoliday\"] = sales_cust.StateHoliday.astype(\"str\").str.strip()\n",
    "sales_cust[\"SchoolHoliday\"] = sales_cust.SchoolHoliday.astype(\"str\").str\\\n",
    "                            .replace(\"nan\",\"0\").replace(\"1.0\", \"1\").replace(\"0.0\", \"0\").str.strip()\n",
    "\n",
    "sales_cust.head(2)"
   ]
  },
  {
   "cell_type": "code",
   "execution_count": 3,
   "metadata": {},
   "outputs": [],
   "source": [
    "store = pd.read_csv(\"../dataset/task1_data/store.csv\", index_col=\"Store\")\n",
    "\n",
    "store[\"CompetitionOpenSinceDate\"] = pd.to_datetime(\"\")\n",
    "competetion_non_null = ~((store.CompetitionOpenSinceYear.isnull())|(store.CompetitionOpenSinceMonth.isnull()))\n",
    "s1 = store.loc[competetion_non_null, \"CompetitionOpenSinceYear\"].astype(int)\n",
    "s2 = store.loc[competetion_non_null, \"CompetitionOpenSinceMonth\"].astype(int)\n",
    "store.loc[competetion_non_null, \"CompetitionOpenSinceDate\"] = \\\n",
    "pd.to_datetime([\"{}-{}\".format(x,y) for x,y in zip(s1,s2)])\n",
    "\n",
    "store[\"Promo2SinceDate\"] = pd.to_datetime(\"\")\n",
    "promo2_non_null = ~((store.Promo2SinceWeek.isnull())|(store.Promo2SinceYear.isnull()))\n",
    "s1 = store.loc[promo2_non_null, \"Promo2SinceYear\"].astype(int)\n",
    "s2 = store.loc[promo2_non_null, \"Promo2SinceWeek\"].astype(int)\n",
    "store.loc[promo2_non_null, \"Promo2SinceDate\"] = \\\n",
    "pd.to_datetime([datetime.strptime(\"{}-W{}-1\".format(x,y), \"%Y-W%W-%w\") for x,y in zip(s1,s2)])"
   ]
  },
  {
   "cell_type": "code",
   "execution_count": 4,
   "metadata": {},
   "outputs": [
    {
     "data": {
      "text/html": [
       "<div>\n",
       "<style scoped>\n",
       "    .dataframe tbody tr th:only-of-type {\n",
       "        vertical-align: middle;\n",
       "    }\n",
       "\n",
       "    .dataframe tbody tr th {\n",
       "        vertical-align: top;\n",
       "    }\n",
       "\n",
       "    .dataframe thead th {\n",
       "        text-align: right;\n",
       "    }\n",
       "</style>\n",
       "<table border=\"1\" class=\"dataframe\">\n",
       "  <thead>\n",
       "    <tr style=\"text-align: right;\">\n",
       "      <th></th>\n",
       "      <th>StoreType</th>\n",
       "      <th>Assortment</th>\n",
       "      <th>CompetitionDistance</th>\n",
       "      <th>Promo2</th>\n",
       "      <th>PromoInterval</th>\n",
       "      <th>CompetitionOpenSinceDate</th>\n",
       "      <th>Promo2SinceDate</th>\n",
       "    </tr>\n",
       "    <tr>\n",
       "      <th>Store</th>\n",
       "      <th></th>\n",
       "      <th></th>\n",
       "      <th></th>\n",
       "      <th></th>\n",
       "      <th></th>\n",
       "      <th></th>\n",
       "      <th></th>\n",
       "    </tr>\n",
       "  </thead>\n",
       "  <tbody>\n",
       "    <tr>\n",
       "      <th>1</th>\n",
       "      <td>c</td>\n",
       "      <td>a</td>\n",
       "      <td>1270.0</td>\n",
       "      <td>0</td>\n",
       "      <td>NaN</td>\n",
       "      <td>2008-09-01</td>\n",
       "      <td>NaT</td>\n",
       "    </tr>\n",
       "    <tr>\n",
       "      <th>2</th>\n",
       "      <td>a</td>\n",
       "      <td>a</td>\n",
       "      <td>570.0</td>\n",
       "      <td>1</td>\n",
       "      <td>Jan,Apr,Jul,Oct</td>\n",
       "      <td>2007-11-01</td>\n",
       "      <td>2010-03-29</td>\n",
       "    </tr>\n",
       "  </tbody>\n",
       "</table>\n",
       "</div>"
      ],
      "text/plain": [
       "      StoreType Assortment  CompetitionDistance  Promo2    PromoInterval  \\\n",
       "Store                                                                      \n",
       "1             c          a               1270.0       0              NaN   \n",
       "2             a          a                570.0       1  Jan,Apr,Jul,Oct   \n",
       "\n",
       "      CompetitionOpenSinceDate Promo2SinceDate  \n",
       "Store                                           \n",
       "1                   2008-09-01             NaT  \n",
       "2                   2007-11-01      2010-03-29  "
      ]
     },
     "execution_count": 4,
     "metadata": {},
     "output_type": "execute_result"
    }
   ],
   "source": [
    "del store[\"CompetitionOpenSinceMonth\"], store[\"CompetitionOpenSinceYear\"]\n",
    "del store[\"Promo2SinceWeek\"], store[\"Promo2SinceYear\"]\n",
    "store.head(2)"
   ]
  },
  {
   "cell_type": "markdown",
   "metadata": {},
   "source": [
    "### Task1.2 Exploratory Data Analyses (EDA)"
   ]
  },
  {
   "cell_type": "code",
   "execution_count": 5,
   "metadata": {},
   "outputs": [
    {
     "data": {
      "text/plain": [
       "Index(['DayOfWeek', 'Date', 'Sales', 'Customers', 'Promo', 'StateHoliday',\n",
       "       'SchoolHoliday'],\n",
       "      dtype='object')"
      ]
     },
     "execution_count": 5,
     "metadata": {},
     "output_type": "execute_result"
    }
   ],
   "source": [
    "sales_cust.columns"
   ]
  },
  {
   "cell_type": "code",
   "execution_count": 1,
   "metadata": {},
   "outputs": [],
   "source": [
    "# pp.ProfileReport(sales_cust)"
   ]
  },
  {
   "cell_type": "markdown",
   "metadata": {},
   "source": [
    "* The two dependent variable \"Sales\" and \"Customers\" are positively correlationed, and both are positively correlated with the variable \"Promo\", and negatively correlated with \"DayOfWeek\". \n",
    "* Between the predictor variables, variable \"Promo\" is negatively correlated with \"DayOfWeek\". "
   ]
  },
  {
   "cell_type": "code",
   "execution_count": 2,
   "metadata": {
    "scrolled": true
   },
   "outputs": [],
   "source": [
    "# pp.ProfileReport(store)"
   ]
  },
  {
   "cell_type": "markdown",
   "metadata": {},
   "source": [
    "The above shows the Store Type and Store Inventory Assortment Strategies are not well balanced, whereas there are almost equal number of stores with and without promotions."
   ]
  },
  {
   "cell_type": "code",
   "execution_count": 14,
   "metadata": {},
   "outputs": [
    {
     "data": {
      "text/html": [
       "<div>\n",
       "<style scoped>\n",
       "    .dataframe tbody tr th:only-of-type {\n",
       "        vertical-align: middle;\n",
       "    }\n",
       "\n",
       "    .dataframe tbody tr th {\n",
       "        vertical-align: top;\n",
       "    }\n",
       "\n",
       "    .dataframe thead th {\n",
       "        text-align: right;\n",
       "    }\n",
       "</style>\n",
       "<table border=\"1\" class=\"dataframe\">\n",
       "  <thead>\n",
       "    <tr style=\"text-align: right;\">\n",
       "      <th></th>\n",
       "      <th>DayOfWeek</th>\n",
       "      <th>Date</th>\n",
       "      <th>Sales</th>\n",
       "      <th>Customers</th>\n",
       "      <th>Promo</th>\n",
       "      <th>StateHoliday</th>\n",
       "      <th>SchoolHoliday</th>\n",
       "      <th>StoreType</th>\n",
       "      <th>Assortment</th>\n",
       "      <th>CompetitionDistance</th>\n",
       "      <th>Promo2</th>\n",
       "      <th>PromoInterval</th>\n",
       "      <th>YearsOfCompetition</th>\n",
       "      <th>YearsOfPromo2</th>\n",
       "    </tr>\n",
       "    <tr>\n",
       "      <th>Store</th>\n",
       "      <th></th>\n",
       "      <th></th>\n",
       "      <th></th>\n",
       "      <th></th>\n",
       "      <th></th>\n",
       "      <th></th>\n",
       "      <th></th>\n",
       "      <th></th>\n",
       "      <th></th>\n",
       "      <th></th>\n",
       "      <th></th>\n",
       "      <th></th>\n",
       "      <th></th>\n",
       "      <th></th>\n",
       "    </tr>\n",
       "  </thead>\n",
       "  <tbody>\n",
       "    <tr>\n",
       "      <th>2</th>\n",
       "      <td>5</td>\n",
       "      <td>2015-07-31</td>\n",
       "      <td>6064</td>\n",
       "      <td>625</td>\n",
       "      <td>1</td>\n",
       "      <td>0</td>\n",
       "      <td>1</td>\n",
       "      <td>a</td>\n",
       "      <td>a</td>\n",
       "      <td>570.0</td>\n",
       "      <td>1</td>\n",
       "      <td>Jan,Apr,Jul,Oct</td>\n",
       "      <td>7.745539</td>\n",
       "      <td>5.338919</td>\n",
       "    </tr>\n",
       "    <tr>\n",
       "      <th>2</th>\n",
       "      <td>4</td>\n",
       "      <td>2015-07-30</td>\n",
       "      <td>5567</td>\n",
       "      <td>601</td>\n",
       "      <td>1</td>\n",
       "      <td>0</td>\n",
       "      <td>1</td>\n",
       "      <td>a</td>\n",
       "      <td>a</td>\n",
       "      <td>570.0</td>\n",
       "      <td>1</td>\n",
       "      <td>Jan,Apr,Jul,Oct</td>\n",
       "      <td>7.742801</td>\n",
       "      <td>5.336181</td>\n",
       "    </tr>\n",
       "  </tbody>\n",
       "</table>\n",
       "</div>"
      ],
      "text/plain": [
       "       DayOfWeek       Date  Sales  Customers  Promo StateHoliday  \\\n",
       "Store                                                               \n",
       "2              5 2015-07-31   6064        625      1            0   \n",
       "2              4 2015-07-30   5567        601      1            0   \n",
       "\n",
       "      SchoolHoliday StoreType Assortment  CompetitionDistance  Promo2  \\\n",
       "Store                                                                   \n",
       "2                 1         a          a                570.0       1   \n",
       "2                 1         a          a                570.0       1   \n",
       "\n",
       "         PromoInterval  YearsOfCompetition  YearsOfPromo2  \n",
       "Store                                                      \n",
       "2      Jan,Apr,Jul,Oct            7.745539       5.338919  \n",
       "2      Jan,Apr,Jul,Oct            7.742801       5.336181  "
      ]
     },
     "execution_count": 14,
     "metadata": {},
     "output_type": "execute_result"
    }
   ],
   "source": [
    "# creation of the modeling data\n",
    "sales_cust_expd = sales_cust.join(store, how=\"left\")\n",
    "sales_cust_expd[\"YearsOfCompetition\"] = \\\n",
    "(sales_cust_expd.Date- sales_cust_expd.CompetitionOpenSinceDate)/np.timedelta64(1, 'Y')\n",
    "sales_cust_expd[\"YearsOfPromo2\"] = \\\n",
    "(sales_cust_expd.Date- sales_cust_expd.Promo2SinceDate)/np.timedelta64(1, 'Y')\n",
    "\n",
    "del sales_cust_expd[\"CompetitionOpenSinceDate\"], sales_cust_expd[\"Promo2SinceDate\"]\n",
    "sales_cust_expd[~sales_cust_expd.YearsOfPromo2.isnull()].head(2)"
   ]
  },
  {
   "cell_type": "code",
   "execution_count": 15,
   "metadata": {},
   "outputs": [
    {
     "name": "stdout",
     "output_type": "stream",
     "text": [
      "<class 'pandas.core.frame.DataFrame'>\n",
      "Int64Index: 844347 entries, 1 to 1115\n",
      "Data columns (total 14 columns):\n",
      " #   Column               Non-Null Count   Dtype         \n",
      "---  ------               --------------   -----         \n",
      " 0   DayOfWeek            844347 non-null  int64         \n",
      " 1   Date                 844347 non-null  datetime64[ns]\n",
      " 2   Sales                844347 non-null  int64         \n",
      " 3   Customers            844347 non-null  int64         \n",
      " 4   Promo                844347 non-null  int64         \n",
      " 5   StateHoliday         844347 non-null  object        \n",
      " 6   SchoolHoliday        844347 non-null  object        \n",
      " 7   StoreType            844347 non-null  object        \n",
      " 8   Assortment           844347 non-null  object        \n",
      " 9   CompetitionDistance  842161 non-null  float64       \n",
      " 10  Promo2               844347 non-null  int64         \n",
      " 11  PromoInterval        421067 non-null  object        \n",
      " 12  YearsOfCompetition   575752 non-null  float64       \n",
      " 13  YearsOfPromo2        421067 non-null  float64       \n",
      "dtypes: datetime64[ns](1), float64(3), int64(5), object(5)\n",
      "memory usage: 96.6+ MB\n"
     ]
    }
   ],
   "source": [
    "sales_cust_expd.info()"
   ]
  },
  {
   "cell_type": "markdown",
   "metadata": {},
   "source": [
    "The joined dataframe has 844347 records and 14 columns. Among them, columns \"CompetitionDistance\",\n",
    "\"PromoInterval\", \"YearsOfCompetition\", \"YearsOfPromo2\" have missing values."
   ]
  },
  {
   "cell_type": "code",
   "execution_count": 3,
   "metadata": {},
   "outputs": [],
   "source": [
    "# pp.ProfileReport(sales_cust_expd[[\"CompetitionDistance\", \"YearsOfCompetition\", \"YearsOfPromo2\"]])"
   ]
  },
  {
   "cell_type": "markdown",
   "metadata": {},
   "source": [
    "The correlations between variables \"CompetitionDistance\", \"YearsOfCompetition\" and \"YearsOfPromo2\" are very small."
   ]
  },
  {
   "cell_type": "code",
   "execution_count": 18,
   "metadata": {},
   "outputs": [
    {
     "data": {
      "text/html": [
       "<div>\n",
       "<style scoped>\n",
       "    .dataframe tbody tr th:only-of-type {\n",
       "        vertical-align: middle;\n",
       "    }\n",
       "\n",
       "    .dataframe tbody tr th {\n",
       "        vertical-align: top;\n",
       "    }\n",
       "\n",
       "    .dataframe thead th {\n",
       "        text-align: right;\n",
       "    }\n",
       "</style>\n",
       "<table border=\"1\" class=\"dataframe\">\n",
       "  <thead>\n",
       "    <tr style=\"text-align: right;\">\n",
       "      <th></th>\n",
       "      <th>StoreType</th>\n",
       "      <th>Assortment</th>\n",
       "    </tr>\n",
       "    <tr>\n",
       "      <th>Store</th>\n",
       "      <th></th>\n",
       "      <th></th>\n",
       "    </tr>\n",
       "  </thead>\n",
       "  <tbody>\n",
       "    <tr>\n",
       "      <th>2</th>\n",
       "      <td>a</td>\n",
       "      <td>a</td>\n",
       "    </tr>\n",
       "    <tr>\n",
       "      <th>7</th>\n",
       "      <td>a</td>\n",
       "      <td>c</td>\n",
       "    </tr>\n",
       "    <tr>\n",
       "      <th>85</th>\n",
       "      <td>b</td>\n",
       "      <td>a</td>\n",
       "    </tr>\n",
       "    <tr>\n",
       "      <th>259</th>\n",
       "      <td>b</td>\n",
       "      <td>b</td>\n",
       "    </tr>\n",
       "    <tr>\n",
       "      <th>562</th>\n",
       "      <td>b</td>\n",
       "      <td>c</td>\n",
       "    </tr>\n",
       "    <tr>\n",
       "      <th>1</th>\n",
       "      <td>c</td>\n",
       "      <td>a</td>\n",
       "    </tr>\n",
       "    <tr>\n",
       "      <th>4</th>\n",
       "      <td>c</td>\n",
       "      <td>c</td>\n",
       "    </tr>\n",
       "    <tr>\n",
       "      <th>13</th>\n",
       "      <td>d</td>\n",
       "      <td>a</td>\n",
       "    </tr>\n",
       "    <tr>\n",
       "      <th>15</th>\n",
       "      <td>d</td>\n",
       "      <td>c</td>\n",
       "    </tr>\n",
       "  </tbody>\n",
       "</table>\n",
       "</div>"
      ],
      "text/plain": [
       "      StoreType Assortment\n",
       "Store                     \n",
       "2             a          a\n",
       "7             a          c\n",
       "85            b          a\n",
       "259           b          b\n",
       "562           b          c\n",
       "1             c          a\n",
       "4             c          c\n",
       "13            d          a\n",
       "15            d          c"
      ]
     },
     "execution_count": 18,
     "metadata": {},
     "output_type": "execute_result"
    }
   ],
   "source": [
    "store[[\"StoreType\", \"Assortment\"]].drop_duplicates().sort_values([\"StoreType\", \"Assortment\"])"
   ]
  },
  {
   "cell_type": "markdown",
   "metadata": {},
   "source": [
    "There are only 9 StoreType-Assortment value combinations."
   ]
  },
  {
   "cell_type": "markdown",
   "metadata": {},
   "source": [
    "### Task1.3 Data Transformation"
   ]
  },
  {
   "cell_type": "code",
   "execution_count": 19,
   "metadata": {},
   "outputs": [
    {
     "data": {
      "text/html": [
       "<div>\n",
       "<style scoped>\n",
       "    .dataframe tbody tr th:only-of-type {\n",
       "        vertical-align: middle;\n",
       "    }\n",
       "\n",
       "    .dataframe tbody tr th {\n",
       "        vertical-align: top;\n",
       "    }\n",
       "\n",
       "    .dataframe thead th {\n",
       "        text-align: right;\n",
       "    }\n",
       "</style>\n",
       "<table border=\"1\" class=\"dataframe\">\n",
       "  <thead>\n",
       "    <tr style=\"text-align: right;\">\n",
       "      <th></th>\n",
       "      <th>DayOfWeek</th>\n",
       "      <th>Date</th>\n",
       "      <th>Sales</th>\n",
       "      <th>Customers</th>\n",
       "      <th>Promo</th>\n",
       "      <th>StateHoliday</th>\n",
       "      <th>SchoolHoliday</th>\n",
       "      <th>StoreType</th>\n",
       "      <th>Assortment</th>\n",
       "      <th>CompetitionDistance</th>\n",
       "      <th>Promo2</th>\n",
       "      <th>PromoInterval</th>\n",
       "      <th>YearsOfCompetition</th>\n",
       "      <th>YearsOfPromo2</th>\n",
       "    </tr>\n",
       "    <tr>\n",
       "      <th>Store</th>\n",
       "      <th></th>\n",
       "      <th></th>\n",
       "      <th></th>\n",
       "      <th></th>\n",
       "      <th></th>\n",
       "      <th></th>\n",
       "      <th></th>\n",
       "      <th></th>\n",
       "      <th></th>\n",
       "      <th></th>\n",
       "      <th></th>\n",
       "      <th></th>\n",
       "      <th></th>\n",
       "      <th></th>\n",
       "    </tr>\n",
       "  </thead>\n",
       "  <tbody>\n",
       "    <tr>\n",
       "      <th>1115</th>\n",
       "      <td>3</td>\n",
       "      <td>2013-01-02</td>\n",
       "      <td>3697</td>\n",
       "      <td>305</td>\n",
       "      <td>0</td>\n",
       "      <td>0</td>\n",
       "      <td>1</td>\n",
       "      <td>d</td>\n",
       "      <td>c</td>\n",
       "      <td>5350.0</td>\n",
       "      <td>1</td>\n",
       "      <td>Mar,Jun,Sept,Dec</td>\n",
       "      <td>NaN</td>\n",
       "      <td>0.599602</td>\n",
       "    </tr>\n",
       "  </tbody>\n",
       "</table>\n",
       "</div>"
      ],
      "text/plain": [
       "       DayOfWeek       Date  Sales  Customers  Promo StateHoliday  \\\n",
       "Store                                                               \n",
       "1115           3 2013-01-02   3697        305      0            0   \n",
       "\n",
       "      SchoolHoliday StoreType Assortment  CompetitionDistance  Promo2  \\\n",
       "Store                                                                   \n",
       "1115              1         d          c               5350.0       1   \n",
       "\n",
       "          PromoInterval  YearsOfCompetition  YearsOfPromo2  \n",
       "Store                                                       \n",
       "1115   Mar,Jun,Sept,Dec                 NaN       0.599602  "
      ]
     },
     "execution_count": 19,
     "metadata": {},
     "output_type": "execute_result"
    }
   ],
   "source": [
    "sales_cust_expd.tail(1)"
   ]
  },
  {
   "cell_type": "markdown",
   "metadata": {},
   "source": [
    "* Transformation of the dependent variables: The Profiling Report of the sales_cust data shows that the histograms of both the \"Sales\" and the \"Customers\" variables are heavily right skewed. Especially, \"Customers\" is a count data given store and time interval (1 day). As a result, we should take logrithm of both columns before building the two regressins.\n",
    "\n",
    "* Transformation of the explanatory variables: The Profiling Report of the sales_cust_expd data shows that the histogram of \"CompetitionDistance\" and \"YearsOfCompetition\" are highly right skewed. These variables should be transformed with logrithm."
   ]
  },
  {
   "cell_type": "markdown",
   "metadata": {},
   "source": [
    "Summary of explanatory variables: \n",
    "* Core variables: DayOfWeek, trend variable (customer preference), seasonality variable, StateHoliday,\tSchoolHoliday\n",
    "* Promo variables: Promo, Promo2, YearsOfPromo2, PromoInterval (this is to be dropped due to 44% records are missing), \n",
    "* Competitor variables: Competetion, ln(CompetitionDistance), ln(YearsOfCompetition)"
   ]
  },
  {
   "cell_type": "markdown",
   "metadata": {},
   "source": [
    "New features: \n",
    "* seasonality is intended to explain the regular annual seasonal pattern of sales, exclusive of holidays, we can transform the month of the year from \"Date\" into a categorical variable and use it to represent seasonality.\n",
    "* Trend represents the change in sales due-to long term changes in consumer preferences. This can be represented by 3 new variables basing on store's historical sales data, namely (average lnSales during 1-6 months before Date's month), (average lnSales during 7-12 months before Date's month), (average lnSales during 13-24 months before Date's month). However, these three variables are found to be highly correlated rho>=0.9, I will only include one variable, which is (average lnSales during 1 year before Date's month)."
   ]
  },
  {
   "cell_type": "code",
   "execution_count": 20,
   "metadata": {},
   "outputs": [],
   "source": [
    "sales_cust_expd[\"Month\"] = sales_cust_expd.Date.dt.month.astype(str)"
   ]
  },
  {
   "cell_type": "code",
   "execution_count": 21,
   "metadata": {},
   "outputs": [
    {
     "data": {
      "text/html": [
       "<div>\n",
       "<style scoped>\n",
       "    .dataframe tbody tr th:only-of-type {\n",
       "        vertical-align: middle;\n",
       "    }\n",
       "\n",
       "    .dataframe tbody tr th {\n",
       "        vertical-align: top;\n",
       "    }\n",
       "\n",
       "    .dataframe thead th {\n",
       "        text-align: right;\n",
       "    }\n",
       "</style>\n",
       "<table border=\"1\" class=\"dataframe\">\n",
       "  <thead>\n",
       "    <tr style=\"text-align: right;\">\n",
       "      <th></th>\n",
       "      <th>Month</th>\n",
       "      <th>lnSalesSum</th>\n",
       "      <th>lnSalesCount</th>\n",
       "    </tr>\n",
       "    <tr>\n",
       "      <th>Store</th>\n",
       "      <th></th>\n",
       "      <th></th>\n",
       "      <th></th>\n",
       "    </tr>\n",
       "  </thead>\n",
       "  <tbody>\n",
       "    <tr>\n",
       "      <th>1</th>\n",
       "      <td>2013-01-31</td>\n",
       "      <td>220.838275</td>\n",
       "      <td>26</td>\n",
       "    </tr>\n",
       "    <tr>\n",
       "      <th>1</th>\n",
       "      <td>2013-02-28</td>\n",
       "      <td>205.131315</td>\n",
       "      <td>24</td>\n",
       "    </tr>\n",
       "  </tbody>\n",
       "</table>\n",
       "</div>"
      ],
      "text/plain": [
       "           Month  lnSalesSum  lnSalesCount\n",
       "Store                                     \n",
       "1     2013-01-31  220.838275            26\n",
       "1     2013-02-28  205.131315            24"
      ]
     },
     "execution_count": 21,
     "metadata": {},
     "output_type": "execute_result"
    }
   ],
   "source": [
    "sales_cust_expd[\"lnSales\"] = np.log(sales_cust_expd.Sales.map(lambda x: 0.0001 if x==0 else x))\n",
    "sales1 = sales_cust_expd[[\"Date\", \"lnSales\"]]\n",
    "sales2 = sales1.copy()\n",
    "\n",
    "def sum_count(s):\n",
    "    s1 = s.set_index(\"Date\").lnSales.resample('1M').sum()\n",
    "    s2 = s.set_index(\"Date\").lnSales.resample('1M').count()\n",
    "    return pd.DataFrame({\"Sum\":s1, \"Count\":s2})\n",
    "\n",
    "monthly_lnsales = sales2.reset_index().groupby(\"Store\")\\\n",
    ".apply(sum_count)\\\n",
    ".reset_index(\"Date\")\n",
    "monthly_lnsales.columns = [\"Month\", \"lnSalesSum\", \"lnSalesCount\"]\n",
    "monthly_lnsales.head(2)"
   ]
  },
  {
   "cell_type": "code",
   "execution_count": 22,
   "metadata": {},
   "outputs": [
    {
     "data": {
      "text/html": [
       "<div>\n",
       "<style scoped>\n",
       "    .dataframe tbody tr th:only-of-type {\n",
       "        vertical-align: middle;\n",
       "    }\n",
       "\n",
       "    .dataframe tbody tr th {\n",
       "        vertical-align: top;\n",
       "    }\n",
       "\n",
       "    .dataframe thead th {\n",
       "        text-align: right;\n",
       "    }\n",
       "</style>\n",
       "<table border=\"1\" class=\"dataframe\">\n",
       "  <thead>\n",
       "    <tr style=\"text-align: right;\">\n",
       "      <th></th>\n",
       "      <th>Date</th>\n",
       "      <th>lnSales</th>\n",
       "      <th>Month</th>\n",
       "      <th>lnSalesSum</th>\n",
       "      <th>lnSalesCount</th>\n",
       "    </tr>\n",
       "    <tr>\n",
       "      <th>Store</th>\n",
       "      <th></th>\n",
       "      <th></th>\n",
       "      <th></th>\n",
       "      <th></th>\n",
       "      <th></th>\n",
       "    </tr>\n",
       "  </thead>\n",
       "  <tbody>\n",
       "    <tr>\n",
       "      <th>1</th>\n",
       "      <td>2015-07-31</td>\n",
       "      <td>8.568456</td>\n",
       "      <td>2013-01-31</td>\n",
       "      <td>220.838275</td>\n",
       "      <td>26</td>\n",
       "    </tr>\n",
       "  </tbody>\n",
       "</table>\n",
       "</div>"
      ],
      "text/plain": [
       "            Date   lnSales      Month  lnSalesSum  lnSalesCount\n",
       "Store                                                          \n",
       "1     2015-07-31  8.568456 2013-01-31  220.838275            26"
      ]
     },
     "execution_count": 22,
     "metadata": {},
     "output_type": "execute_result"
    }
   ],
   "source": [
    "cross_join = sales1.join(monthly_lnsales)\n",
    "cross_join.head(1)"
   ]
  },
  {
   "cell_type": "code",
   "execution_count": 23,
   "metadata": {},
   "outputs": [
    {
     "data": {
      "text/plain": [
       "815412"
      ]
     },
     "execution_count": 23,
     "metadata": {},
     "output_type": "execute_result"
    }
   ],
   "source": [
    "def calc_meanlnSales(df):\n",
    "    return df.lnSalesSum.sum() / df.lnSalesCount.sum()\n",
    "    \n",
    "prevyearMeanLnSales = cross_join[(cross_join.Month < cross_join.Date) & \n",
    "           (cross_join.Month >= cross_join.Date - pd.tseries.offsets.DateOffset(months=12) )].reset_index()\\\n",
    ".groupby([\"Store\", \"Date\"])[[\"lnSalesSum\",\"lnSalesCount\"]].apply(calc_meanlnSales)\n",
    "\n",
    "prevyearMeanLnSales.shape[0]"
   ]
  },
  {
   "cell_type": "code",
   "execution_count": 24,
   "metadata": {},
   "outputs": [
    {
     "data": {
      "text/html": [
       "<div>\n",
       "<style scoped>\n",
       "    .dataframe tbody tr th:only-of-type {\n",
       "        vertical-align: middle;\n",
       "    }\n",
       "\n",
       "    .dataframe tbody tr th {\n",
       "        vertical-align: top;\n",
       "    }\n",
       "\n",
       "    .dataframe thead th {\n",
       "        text-align: right;\n",
       "    }\n",
       "</style>\n",
       "<table border=\"1\" class=\"dataframe\">\n",
       "  <thead>\n",
       "    <tr style=\"text-align: right;\">\n",
       "      <th></th>\n",
       "      <th></th>\n",
       "      <th>DayOfWeek</th>\n",
       "      <th>Sales</th>\n",
       "      <th>Customers</th>\n",
       "      <th>Promo</th>\n",
       "      <th>StateHoliday</th>\n",
       "      <th>SchoolHoliday</th>\n",
       "      <th>StoreType</th>\n",
       "      <th>Assortment</th>\n",
       "      <th>CompetitionDistance</th>\n",
       "      <th>Promo2</th>\n",
       "      <th>PromoInterval</th>\n",
       "      <th>YearsOfCompetition</th>\n",
       "      <th>YearsOfPromo2</th>\n",
       "      <th>Month</th>\n",
       "      <th>lnSales</th>\n",
       "      <th>prevyearMeanLnSales</th>\n",
       "    </tr>\n",
       "    <tr>\n",
       "      <th>Store</th>\n",
       "      <th>Date</th>\n",
       "      <th></th>\n",
       "      <th></th>\n",
       "      <th></th>\n",
       "      <th></th>\n",
       "      <th></th>\n",
       "      <th></th>\n",
       "      <th></th>\n",
       "      <th></th>\n",
       "      <th></th>\n",
       "      <th></th>\n",
       "      <th></th>\n",
       "      <th></th>\n",
       "      <th></th>\n",
       "      <th></th>\n",
       "      <th></th>\n",
       "      <th></th>\n",
       "    </tr>\n",
       "  </thead>\n",
       "  <tbody>\n",
       "    <tr>\n",
       "      <th rowspan=\"2\" valign=\"top\">1115</th>\n",
       "      <th>2015-07-30</th>\n",
       "      <td>4</td>\n",
       "      <td>8405</td>\n",
       "      <td>502</td>\n",
       "      <td>1</td>\n",
       "      <td>0</td>\n",
       "      <td>1</td>\n",
       "      <td>d</td>\n",
       "      <td>c</td>\n",
       "      <td>5350.0</td>\n",
       "      <td>1</td>\n",
       "      <td>Mar,Jun,Sept,Dec</td>\n",
       "      <td>NaN</td>\n",
       "      <td>3.170496</td>\n",
       "      <td>7</td>\n",
       "      <td>9.036582</td>\n",
       "      <td>8.817564</td>\n",
       "    </tr>\n",
       "    <tr>\n",
       "      <th>2015-07-31</th>\n",
       "      <td>5</td>\n",
       "      <td>8680</td>\n",
       "      <td>538</td>\n",
       "      <td>1</td>\n",
       "      <td>0</td>\n",
       "      <td>1</td>\n",
       "      <td>d</td>\n",
       "      <td>c</td>\n",
       "      <td>5350.0</td>\n",
       "      <td>1</td>\n",
       "      <td>Mar,Jun,Sept,Dec</td>\n",
       "      <td>NaN</td>\n",
       "      <td>3.173234</td>\n",
       "      <td>7</td>\n",
       "      <td>9.068777</td>\n",
       "      <td>8.817564</td>\n",
       "    </tr>\n",
       "  </tbody>\n",
       "</table>\n",
       "</div>"
      ],
      "text/plain": [
       "                  DayOfWeek  Sales  Customers  Promo StateHoliday  \\\n",
       "Store Date                                                          \n",
       "1115  2015-07-30          4   8405        502      1            0   \n",
       "      2015-07-31          5   8680        538      1            0   \n",
       "\n",
       "                 SchoolHoliday StoreType Assortment  CompetitionDistance  \\\n",
       "Store Date                                                                 \n",
       "1115  2015-07-30             1         d          c               5350.0   \n",
       "      2015-07-31             1         d          c               5350.0   \n",
       "\n",
       "                  Promo2     PromoInterval  YearsOfCompetition  YearsOfPromo2  \\\n",
       "Store Date                                                                      \n",
       "1115  2015-07-30       1  Mar,Jun,Sept,Dec                 NaN       3.170496   \n",
       "      2015-07-31       1  Mar,Jun,Sept,Dec                 NaN       3.173234   \n",
       "\n",
       "                 Month   lnSales  prevyearMeanLnSales  \n",
       "Store Date                                             \n",
       "1115  2015-07-30     7  9.036582             8.817564  \n",
       "      2015-07-31     7  9.068777             8.817564  "
      ]
     },
     "execution_count": 24,
     "metadata": {},
     "output_type": "execute_result"
    }
   ],
   "source": [
    "sales_cust_expd = sales_cust_expd.reset_index().set_index([\"Store\",\"Date\"])\n",
    "sales_cust_expd = pd.concat([sales_cust_expd, \n",
    "                             prevyearMeanLnSales.to_frame(name=\"prevyearMeanLnSales\")], axis=1)\n",
    "sales_cust_expd.tail(2)"
   ]
  },
  {
   "cell_type": "code",
   "execution_count": 25,
   "metadata": {},
   "outputs": [],
   "source": [
    "# sales_cust_expd[\"lnCustomers\"] = np.log(sales_cust_expd.Customers)"
   ]
  },
  {
   "cell_type": "code",
   "execution_count": 26,
   "metadata": {},
   "outputs": [],
   "source": [
    "del sales_cust_expd[\"lnCustomers\"]"
   ]
  },
  {
   "cell_type": "markdown",
   "metadata": {},
   "source": [
    "### Task1.4 Modeling"
   ]
  },
  {
   "cell_type": "markdown",
   "metadata": {},
   "source": [
    "In the EDA session, we find there are 9 StoreType-Assortment value combinations. I would like to build 1 model for each of the 9 StoreType-Assortment combination."
   ]
  },
  {
   "cell_type": "code",
   "execution_count": 68,
   "metadata": {},
   "outputs": [],
   "source": [
    "class StoreType_Assortment_Model(object):\n",
    "    def __init__(self, data, store_type, assortment, test_size=0.2, seed=0):\n",
    "        self._store_type = store_type\n",
    "        self._assortment = assortment\n",
    "        self._data = data[(data.StoreType == store_type) & (data.Assortment == assortment)]\n",
    "        self._formula_id = None\n",
    "        \n",
    "        # missing value control\n",
    "        self._data.loc[self._data.Promo2 == 0,\"PromoInterval\"] = \"0No_Promo\"\n",
    "        self._data.loc[self._data.Promo2 == 0,\"YearsOfPromo2\"] = 0\n",
    "        self._data.loc[self._data.YearsOfCompetition.isnull(),\"YearsOfCompetition\"] = self._data.YearsOfCompetition.mean()\n",
    "        self._data = self._data.loc[~self._data.prevyearMeanLnSales.isnull()]\n",
    "        self._data[\"lnCompetitionDistance\"] = np.log(self._data.CompetitionDistance.map(lambda x: 0.0001 if x == 0 else x))\n",
    "        self._data[\"lnYearsOfCompetition\"] = np.log(self._data.YearsOfCompetition.map(lambda x: 0.0001 if x == 0 else x))\n",
    "        \n",
    "        self._n = self._data.shape[0]\n",
    "        np.random.seed(seed)\n",
    "        self.train_indices = np.random.choice(range(self._n), size=int(self._n * (1 - test_size)), replace=False)\n",
    "        self.test_indices = [i for i in range(self._n) if i not in self.train_indices]          \n",
    "        \n",
    "    def fit(self, depvar=\"lnSales\", seed=0, formula_id=1):\n",
    "        \n",
    "        self._formula_id = formula_id\n",
    "        train = self._data.iloc[self.train_indices,:].reset_index().dropna()\n",
    "        \n",
    "        if self._formula_id == 1:\n",
    "            formula = \"\"\"\n",
    "            {} ~ C(Promo) + C(Promo2) + YearsOfPromo2 + C(PromoInterval) + C(PromoInterval):C(Month)\n",
    "            + C(DayOfWeek) + C(Month) + C(SchoolHoliday) + C(StateHoliday) + lnCompetitionDistance + YearsOfCompetition\n",
    "            \"\"\".format(depvar)\n",
    "        elif self._formula_id == 2:\n",
    "            formula = \"\"\"\n",
    "             {} ~ C(Promo) + YearsOfPromo2 + C(PromoInterval) + C(PromoInterval):C(Month)\n",
    "            + C(DayOfWeek) + C(Month) + C(SchoolHoliday) + C(StateHoliday) + lnCompetitionDistance + YearsOfCompetition\n",
    "            \"\"\".format(depvar)\n",
    "        elif self._formula_id == 3:\n",
    "            formula = \"\"\"\n",
    "             {} ~ C(Promo) + YearsOfPromo2 + C(PromoInterval) + C(PromoInterval):C(Month)\n",
    "            + C(DayOfWeek) + C(Month) + C(SchoolHoliday) + C(StateHoliday) + lnCompetitionDistance + lnYearsOfCompetition\n",
    "            \"\"\".format(depvar)\n",
    "        elif self._formula_id == 4:\n",
    "            formula = \"\"\"\n",
    "             {} ~ C(Promo) + YearsOfPromo2 + C(PromoInterval)\n",
    "            + C(DayOfWeek) + C(Month) + C(SchoolHoliday) + C(StateHoliday) + lnCompetitionDistance + YearsOfCompetition\n",
    "            \"\"\".format(depvar)       \n",
    "        elif self._formula_id == 5:\n",
    "            formula = \"\"\"\n",
    "             {} ~ C(Promo) + YearsOfPromo2 + C(PromoInterval)\n",
    "            + C(DayOfWeek) + C(Month) + C(SchoolHoliday) + C(StateHoliday) + YearsOfCompetition\n",
    "            \"\"\".format(depvar)       \n",
    "        elif self._formula_id == 6:\n",
    "            formula = \"\"\"\n",
    "             {} ~ C(Promo) + YearsOfPromo2 \n",
    "            + C(DayOfWeek) + C(Month) + C(SchoolHoliday) + C(StateHoliday) + YearsOfCompetition\n",
    "            \"\"\".format(depvar)              \n",
    "        elif self._formula_id == 7:\n",
    "            formula = \"\"\"\n",
    "             {} ~ C(Promo) + YearsOfPromo2 \n",
    "            + C(DayOfWeek) + C(Month) + C(SchoolHoliday) + C(StateHoliday) + YearsOfCompetition\n",
    "            + C(Promo):YearsOfCompetition\n",
    "            \"\"\".format(depvar)  \n",
    "\n",
    "        elif self._formula_id == 8:\n",
    "            formula = \"\"\"\n",
    "             {} ~ C(Promo) + YearsOfPromo2 \n",
    "            + C(DayOfWeek) + C(Month) + C(SchoolHoliday) + C(StateHoliday) + YearsOfCompetition\n",
    "            + YearsOfPromo2:YearsOfCompetition\n",
    "            \"\"\".format(depvar) \n",
    "        elif self._formula_id == 9:\n",
    "            formula = \"\"\"\n",
    "             {} ~ C(Promo) + YearsOfPromo2 \n",
    "            + C(DayOfWeek) + C(Month) + C(SchoolHoliday) + C(StateHoliday) + YearsOfCompetition\n",
    "            + YearsOfPromo2:YearsOfCompetition + C(Promo):YearsOfCompetition\n",
    "            \"\"\".format(depvar) \n",
    "            \n",
    "        # the following is fitting a mixed effect model with random intercept for each Store\n",
    "        results = smf.mixedlm(formula, data=train, groups=train[\"Store\"]).fit(method=[\"lbfgs\"])\n",
    "        \n",
    "        return results"
   ]
  },
  {
   "cell_type": "code",
   "execution_count": 44,
   "metadata": {},
   "outputs": [
    {
     "data": {
      "text/html": [
       "<div>\n",
       "<style scoped>\n",
       "    .dataframe tbody tr th:only-of-type {\n",
       "        vertical-align: middle;\n",
       "    }\n",
       "\n",
       "    .dataframe tbody tr th {\n",
       "        vertical-align: top;\n",
       "    }\n",
       "\n",
       "    .dataframe thead th {\n",
       "        text-align: right;\n",
       "    }\n",
       "</style>\n",
       "<table border=\"1\" class=\"dataframe\">\n",
       "  <thead>\n",
       "    <tr style=\"text-align: right;\">\n",
       "      <th></th>\n",
       "      <th></th>\n",
       "      <th>DayOfWeek</th>\n",
       "      <th>Sales</th>\n",
       "      <th>Customers</th>\n",
       "      <th>Promo</th>\n",
       "      <th>StateHoliday</th>\n",
       "      <th>SchoolHoliday</th>\n",
       "      <th>StoreType</th>\n",
       "      <th>Assortment</th>\n",
       "      <th>CompetitionDistance</th>\n",
       "      <th>Promo2</th>\n",
       "      <th>PromoInterval</th>\n",
       "      <th>YearsOfCompetition</th>\n",
       "      <th>YearsOfPromo2</th>\n",
       "      <th>Month</th>\n",
       "      <th>lnSales</th>\n",
       "      <th>prevyearMeanLnSales</th>\n",
       "    </tr>\n",
       "    <tr>\n",
       "      <th>Store</th>\n",
       "      <th>Date</th>\n",
       "      <th></th>\n",
       "      <th></th>\n",
       "      <th></th>\n",
       "      <th></th>\n",
       "      <th></th>\n",
       "      <th></th>\n",
       "      <th></th>\n",
       "      <th></th>\n",
       "      <th></th>\n",
       "      <th></th>\n",
       "      <th></th>\n",
       "      <th></th>\n",
       "      <th></th>\n",
       "      <th></th>\n",
       "      <th></th>\n",
       "      <th></th>\n",
       "    </tr>\n",
       "  </thead>\n",
       "  <tbody>\n",
       "    <tr>\n",
       "      <th>1</th>\n",
       "      <th>2013-01-02</th>\n",
       "      <td>3</td>\n",
       "      <td>5530</td>\n",
       "      <td>668</td>\n",
       "      <td>0</td>\n",
       "      <td>0</td>\n",
       "      <td>1</td>\n",
       "      <td>c</td>\n",
       "      <td>a</td>\n",
       "      <td>1270.0</td>\n",
       "      <td>0</td>\n",
       "      <td>NaN</td>\n",
       "      <td>4.336845</td>\n",
       "      <td>NaN</td>\n",
       "      <td>1</td>\n",
       "      <td>8.617943</td>\n",
       "      <td>NaN</td>\n",
       "    </tr>\n",
       "  </tbody>\n",
       "</table>\n",
       "</div>"
      ],
      "text/plain": [
       "                  DayOfWeek  Sales  Customers  Promo StateHoliday  \\\n",
       "Store Date                                                          \n",
       "1     2013-01-02          3   5530        668      0            0   \n",
       "\n",
       "                 SchoolHoliday StoreType Assortment  CompetitionDistance  \\\n",
       "Store Date                                                                 \n",
       "1     2013-01-02             1         c          a               1270.0   \n",
       "\n",
       "                  Promo2 PromoInterval  YearsOfCompetition  YearsOfPromo2  \\\n",
       "Store Date                                                                  \n",
       "1     2013-01-02       0           NaN            4.336845            NaN   \n",
       "\n",
       "                 Month   lnSales  prevyearMeanLnSales  \n",
       "Store Date                                             \n",
       "1     2013-01-02     1  8.617943                  NaN  "
      ]
     },
     "execution_count": 44,
     "metadata": {},
     "output_type": "execute_result"
    }
   ],
   "source": [
    "sales_cust_expd.head(1)"
   ]
  },
  {
   "cell_type": "code",
   "execution_count": 45,
   "metadata": {},
   "outputs": [
    {
     "data": {
      "text/plain": [
       "Index(['DayOfWeek', 'Sales', 'Customers', 'Promo', 'StateHoliday',\n",
       "       'SchoolHoliday', 'StoreType', 'Assortment', 'CompetitionDistance',\n",
       "       'Promo2', 'PromoInterval', 'YearsOfCompetition', 'YearsOfPromo2',\n",
       "       'Month', 'lnSales', 'prevyearMeanLnSales'],\n",
       "      dtype='object')"
      ]
     },
     "execution_count": 45,
     "metadata": {},
     "output_type": "execute_result"
    }
   ],
   "source": [
    "sales_cust_expd.columns"
   ]
  },
  {
   "cell_type": "code",
   "execution_count": 74,
   "metadata": {},
   "outputs": [
    {
     "name": "stdout",
     "output_type": "stream",
     "text": [
      "('c', 'a')\n",
      "[None, None, None, None, None, -8614.151444936404, -8614.829903761856]\n",
      "('a', 'a')\n",
      "[-3781.018084328389, -3795.9777766554616, -3839.13803251856, -3782.9374363734387, -3782.2607177896425, -3779.1691944894847, -3768.858218682697]\n",
      "('c', 'c')\n",
      "[5452.735056206991, 5435.0268176744285, 5316.966755430913, 5520.710325742868, 5522.71805672528, 5515.179980426939, 5613.362943804299]\n",
      "('a', 'c')\n",
      "[5344.998250169214, 5329.310783795663, 5190.519112684415, 5376.461212933995, 5375.547457066597, 5370.293876291951, 5385.977842317545]\n",
      "('d', 'a')\n",
      "[16109.188381007058, 16093.291292121517, 16081.031787774176, 16156.098602381186, 16158.147841153492, 16155.55855016614, 16157.46249320492]\n",
      "('d', 'c')\n",
      "[35867.93152807758, 35853.18230128195, 35633.439429096295, 35892.92491552129, 35895.929251519265, 35881.75847598375, 35902.312036684016]\n",
      "('b', 'a')\n",
      "[182.95489780456774, 170.31101224828308, 168.87556047188264, 184.38963327744204, 184.87812725156618, 184.51841149682878, 474.7643611357162]\n",
      "('b', 'b')\n",
      "[None, None, -3670.1947011779994, -3646.3076949400856, -3646.6378880776756, -3649.5623426312377, -3653.7046662691355]\n",
      "('b', 'c')\n",
      "[None, None, None, None, None, None, None]\n"
     ]
    }
   ],
   "source": [
    "model_results = {}\n",
    "fitted_models = {}\n",
    "for s, a in sales_cust_expd[[\"StoreType\", \"Assortment\"]].drop_duplicates().values.tolist():\n",
    "    model_results[(s,a)] = []\n",
    "    fitted_models[(s,a)] = []\n",
    "    sam_obj = StoreType_Assortment_Model(sales_cust_expd, store_type=s, assortment=a, test_size=0)\n",
    "    \n",
    "    for i in range(1, 8):\n",
    "        try:\n",
    "            fitted = sam_obj.fit(formula_id=i)\n",
    "            llf = fitted.llf\n",
    "            fitted_models[(s,a)].append(fitted)\n",
    "            model_results[(s,a)].append(llf)\n",
    "        except:\n",
    "            fitted_models[(s,a)].append(None)\n",
    "            model_results[(s,a)].append(None)\n",
    "    print((s,a))\n",
    "    print(model_results[(s,a)])"
   ]
  },
  {
   "cell_type": "code",
   "execution_count": 75,
   "metadata": {},
   "outputs": [
    {
     "data": {
      "text/plain": [
       "array([0])"
      ]
     },
     "execution_count": 75,
     "metadata": {},
     "output_type": "execute_result"
    }
   ],
   "source": [
    "sales_cust_expd[(sales_cust_expd.StoreType==\"b\") & (sales_cust_expd.Assortment==\"c\")].Promo2.unique()\n",
    "# the last combination doesn't have promotion at all"
   ]
  },
  {
   "cell_type": "code",
   "execution_count": 76,
   "metadata": {},
   "outputs": [],
   "source": [
    "#store the fitted models and their llf results using pickle\n",
    "filename1 = 'fitted_models'\n",
    "outfile1 = open(filename1,'wb')\n",
    "pickle.dump(fitted_models, outfile1)\n",
    "outfile1.close()"
   ]
  },
  {
   "cell_type": "code",
   "execution_count": 77,
   "metadata": {},
   "outputs": [],
   "source": [
    "filename2 = 'model_results_llf'\n",
    "outfile2 = open(filename2,'wb')\n",
    "pickle.dump(model_results, outfile2)\n",
    "outfile2.close()"
   ]
  },
  {
   "cell_type": "code",
   "execution_count": 3,
   "metadata": {},
   "outputs": [],
   "source": [
    "filename1 = 'fitted_models'\n",
    "infile = open(filename1,'rb')\n",
    "new_dict = pickle.load(infile)\n",
    "infile.close()"
   ]
  },
  {
   "cell_type": "code",
   "execution_count": 80,
   "metadata": {},
   "outputs": [
    {
     "data": {
      "text/html": [
       "<div>\n",
       "<style scoped>\n",
       "    .dataframe tbody tr th:only-of-type {\n",
       "        vertical-align: middle;\n",
       "    }\n",
       "\n",
       "    .dataframe tbody tr th {\n",
       "        vertical-align: top;\n",
       "    }\n",
       "\n",
       "    .dataframe thead th {\n",
       "        text-align: right;\n",
       "    }\n",
       "</style>\n",
       "<table border=\"1\" class=\"dataframe\">\n",
       "  <thead>\n",
       "    <tr style=\"text-align: right;\">\n",
       "      <th></th>\n",
       "      <th>Coef.</th>\n",
       "      <th>Std.Err.</th>\n",
       "      <th>z</th>\n",
       "      <th>P&gt;|z|</th>\n",
       "      <th>[0.025</th>\n",
       "      <th>0.975]</th>\n",
       "    </tr>\n",
       "  </thead>\n",
       "  <tbody>\n",
       "    <tr>\n",
       "      <th>C(Promo)[T.1]</th>\n",
       "      <td>0.366</td>\n",
       "      <td>0.005</td>\n",
       "      <td>69.728</td>\n",
       "      <td>0.000</td>\n",
       "      <td>0.356</td>\n",
       "      <td>0.377</td>\n",
       "    </tr>\n",
       "    <tr>\n",
       "      <th>YearsOfPromo2</th>\n",
       "      <td>0.026</td>\n",
       "      <td>0.003</td>\n",
       "      <td>9.389</td>\n",
       "      <td>0.000</td>\n",
       "      <td>0.021</td>\n",
       "      <td>0.032</td>\n",
       "    </tr>\n",
       "    <tr>\n",
       "      <th>YearsOfCompetition</th>\n",
       "      <td>-0.001</td>\n",
       "      <td>0.002</td>\n",
       "      <td>-0.492</td>\n",
       "      <td>0.623</td>\n",
       "      <td>-0.006</td>\n",
       "      <td>0.004</td>\n",
       "    </tr>\n",
       "    <tr>\n",
       "      <th>C(Promo)[T.1]:YearsOfCompetition</th>\n",
       "      <td>-0.002</td>\n",
       "      <td>0.001</td>\n",
       "      <td>-3.360</td>\n",
       "      <td>0.001</td>\n",
       "      <td>-0.004</td>\n",
       "      <td>-0.001</td>\n",
       "    </tr>\n",
       "  </tbody>\n",
       "</table>\n",
       "</div>"
      ],
      "text/plain": [
       "                                   Coef. Std.Err.       z  P>|z|  [0.025  \\\n",
       "C(Promo)[T.1]                      0.366    0.005  69.728  0.000   0.356   \n",
       "YearsOfPromo2                      0.026    0.003   9.389  0.000   0.021   \n",
       "YearsOfCompetition                -0.001    0.002  -0.492  0.623  -0.006   \n",
       "C(Promo)[T.1]:YearsOfCompetition  -0.002    0.001  -3.360  0.001  -0.004   \n",
       "\n",
       "                                  0.975]  \n",
       "C(Promo)[T.1]                      0.377  \n",
       "YearsOfPromo2                      0.032  \n",
       "YearsOfCompetition                 0.004  \n",
       "C(Promo)[T.1]:YearsOfCompetition  -0.001  "
      ]
     },
     "execution_count": 80,
     "metadata": {},
     "output_type": "execute_result"
    }
   ],
   "source": [
    "sam = StoreType_Assortment_Model(sales_cust_expd, store_type='c', assortment='a', test_size=0)\n",
    "fitted = sam.fit(formula_id=7)\n",
    "fitted.summary().tables[1].loc[['C(Promo)[T.1]','YearsOfPromo2','YearsOfCompetition','C(Promo)[T.1]:YearsOfCompetition'],:]"
   ]
  },
  {
   "cell_type": "code",
   "execution_count": 81,
   "metadata": {},
   "outputs": [
    {
     "name": "stdout",
     "output_type": "stream",
     "text": [
      "True True\n",
      "a a 3 chi2-test pval: 0.1030363939284934\n",
      "True True\n",
      "c c 3 chi2-test pval: 1.0\n",
      "True True\n",
      "a c 3 chi2-test pval: 1.0\n",
      "True True\n",
      "d a 3 chi2-test pval: 1.0\n",
      "True True\n",
      "d c 3 chi2-test pval: 1.0\n",
      "True True\n",
      "b a 1 chi2-test pval: 1.0\n",
      "True True\n",
      "b b 3 chi2-test pval: 1.0\n"
     ]
    }
   ],
   "source": [
    "for s, a in sales_cust_expd[[\"StoreType\", \"Assortment\"]].drop_duplicates().values.tolist()[1:-1]:\n",
    "    md1 = fitted_models[(s, a)][4]\n",
    "    md2 = fitted_models[(s, a)][5]\n",
    "\n",
    "    chi2 = -2*(md1.llf - md2.llf) \n",
    "    df = md1.df_modelwc - md2.df_modelwc\n",
    "    chi2_test_pval = 1 - st.chi2.cdf(chi2, df)\n",
    "    print(md1.converged, md2.converged)\n",
    "    print(s,a, df, \"chi2-test pval:\",chi2_test_pval)"
   ]
  },
  {
   "cell_type": "markdown",
   "metadata": {},
   "source": [
    "The above likelihood ratio tests show: the model 5, including C(PromoInterval) is not significantly better than model 6. The following are using model 7."
   ]
  },
  {
   "cell_type": "code",
   "execution_count": 82,
   "metadata": {},
   "outputs": [
    {
     "name": "stdout",
     "output_type": "stream",
     "text": [
      "c a\n",
      "                   0        1                    2           3\n",
      "0             Model:  MixedLM  Dependent Variable:     lnSales\n",
      "1  No. Observations:    50113              Method:        REML\n",
      "2        No. Groups:       77               Scale:      0.0815\n",
      "3   Min. group size:       27      Log-Likelihood:  -8614.8299\n",
      "4   Max. group size:      758           Converged:         Yes\n",
      "5   Mean group size:    650.8                                 \n",
      "                                   Coef. Std.Err.       z  P>|z|  [0.025  \\\n",
      "C(Promo)[T.1]                      0.366    0.005  69.728  0.000   0.356   \n",
      "YearsOfPromo2                      0.026    0.003   9.389  0.000   0.021   \n",
      "YearsOfCompetition                -0.001    0.002  -0.492  0.623  -0.006   \n",
      "C(Promo)[T.1]:YearsOfCompetition  -0.002    0.001  -3.360  0.001  -0.004   \n",
      "\n",
      "                                  0.975]  \n",
      "C(Promo)[T.1]                      0.377  \n",
      "YearsOfPromo2                      0.032  \n",
      "YearsOfCompetition                 0.004  \n",
      "C(Promo)[T.1]:YearsOfCompetition  -0.001  \n",
      "====================================================================\n",
      "a a\n",
      "                   0        1                    2           3\n",
      "0             Model:  MixedLM  Dependent Variable:     lnSales\n",
      "1  No. Observations:   252919              Method:        REML\n",
      "2        No. Groups:      379               Scale:      0.0596\n",
      "3   Min. group size:       27      Log-Likelihood:  -3768.8582\n",
      "4   Max. group size:      758           Converged:         Yes\n",
      "5   Mean group size:    667.3                                 \n",
      "                                  Coef. Std.Err.        z  P>|z| [0.025 0.975]\n",
      "C(Promo)[T.1]                     0.331    0.001  232.328  0.000  0.329  0.334\n",
      "YearsOfPromo2                     0.011    0.001    9.204  0.000  0.009  0.013\n",
      "YearsOfCompetition                0.009    0.001    9.627  0.000  0.007  0.011\n",
      "C(Promo)[T.1]:YearsOfCompetition  0.001    0.000    6.030  0.000  0.001  0.001\n",
      "====================================================================\n",
      "c c\n",
      "                   0        1                    2          3\n",
      "0             Model:  MixedLM  Dependent Variable:    lnSales\n",
      "1  No. Observations:    50743              Method:       REML\n",
      "2        No. Groups:       71               Scale:     0.0462\n",
      "3   Min. group size:       53      Log-Likelihood:  5613.3629\n",
      "4   Max. group size:      758           Converged:        Yes\n",
      "5   Mean group size:    714.7                                \n",
      "                                  Coef. Std.Err.       z  P>|z| [0.025 0.975]\n",
      "C(Promo)[T.1]                     0.284    0.004  67.958  0.000  0.275  0.292\n",
      "YearsOfPromo2                     0.045    0.002  20.266  0.000  0.040  0.049\n",
      "YearsOfCompetition                0.027    0.002  14.064  0.000  0.023  0.031\n",
      "C(Promo)[T.1]:YearsOfCompetition  0.010    0.001  14.477  0.000  0.008  0.011\n",
      "====================================================================\n",
      "a c\n",
      "                   0        1                    2          3\n",
      "0             Model:  MixedLM  Dependent Variable:    lnSales\n",
      "1  No. Observations:   152907              Method:       REML\n",
      "2        No. Groups:      219               Scale:     0.0539\n",
      "3   Min. group size:       52      Log-Likelihood:  5385.9778\n",
      "4   Max. group size:      875           Converged:        Yes\n",
      "5   Mean group size:    698.2                                \n",
      "                                  Coef. Std.Err.        z  P>|z| [0.025 0.975]\n",
      "C(Promo)[T.1]                     0.288    0.002  138.976  0.000  0.284  0.292\n",
      "YearsOfPromo2                     0.032    0.001   23.590  0.000  0.030  0.035\n",
      "YearsOfCompetition                0.022    0.001   16.760  0.000  0.019  0.024\n",
      "C(Promo)[T.1]:YearsOfCompetition  0.002    0.000    6.749  0.000  0.002  0.003\n",
      "====================================================================\n",
      "d a\n",
      "                   0        1                    2           3\n",
      "0             Model:  MixedLM  Dependent Variable:     lnSales\n",
      "1  No. Observations:    81039              Method:        REML\n",
      "2        No. Groups:      126               Scale:      0.0388\n",
      "3   Min. group size:       75      Log-Likelihood:  16157.4625\n",
      "4   Max. group size:      813           Converged:         Yes\n",
      "5   Mean group size:    643.2                                 \n",
      "                                  Coef. Std.Err.        z  P>|z| [0.025 0.975]\n",
      "C(Promo)[T.1]                     0.382    0.003  136.717  0.000  0.377  0.387\n",
      "YearsOfPromo2                     0.023    0.001   15.601  0.000  0.020  0.026\n",
      "YearsOfCompetition                0.008    0.002    5.032  0.000  0.005  0.011\n",
      "C(Promo)[T.1]:YearsOfCompetition  0.002    0.000    4.186  0.000  0.001  0.003\n",
      "====================================================================\n",
      "d c\n",
      "                   0        1                    2           3\n",
      "0             Model:  MixedLM  Dependent Variable:     lnSales\n",
      "1  No. Observations:   145918              Method:        REML\n",
      "2        No. Groups:      220               Scale:      0.0353\n",
      "3   Min. group size:       52      Log-Likelihood:  35902.3120\n",
      "4   Max. group size:      856           Converged:         Yes\n",
      "5   Mean group size:    663.3                                 \n",
      "                                  Coef. Std.Err.        z  P>|z| [0.025 0.975]\n",
      "C(Promo)[T.1]                     0.327    0.002  208.686  0.000  0.323  0.330\n",
      "YearsOfPromo2                     0.064    0.001   60.272  0.000  0.062  0.066\n",
      "YearsOfCompetition                0.022    0.001   20.660  0.000  0.020  0.024\n",
      "C(Promo)[T.1]:YearsOfCompetition  0.002    0.000    7.492  0.000  0.001  0.002\n",
      "====================================================================\n",
      "b a\n",
      "                   0        1                    2         3\n",
      "0             Model:  MixedLM  Dependent Variable:   lnSales\n",
      "1  No. Observations:     5653              Method:      REML\n",
      "2        No. Groups:        7               Scale:    0.0477\n",
      "3   Min. group size:      457      Log-Likelihood:  474.7644\n",
      "4   Max. group size:      911           Converged:       Yes\n",
      "5   Mean group size:    807.6                               \n",
      "                                   Coef. Std.Err.       z  P>|z|  [0.025  \\\n",
      "C(Promo)[T.1]                      0.056    0.011   5.065  0.000   0.034   \n",
      "YearsOfPromo2                      0.043    0.010   4.261  0.000   0.023   \n",
      "YearsOfCompetition                -0.011    0.005  -2.274  0.023  -0.021   \n",
      "C(Promo)[T.1]:YearsOfCompetition   0.054    0.002  24.960  0.000   0.049   \n",
      "\n",
      "                                  0.975]  \n",
      "C(Promo)[T.1]                      0.078  \n",
      "YearsOfPromo2                      0.063  \n",
      "YearsOfCompetition                -0.002  \n",
      "C(Promo)[T.1]:YearsOfCompetition   0.058  \n",
      "====================================================================\n",
      "b b\n",
      "                   0        1                    2           3\n",
      "0             Model:  MixedLM  Dependent Variable:     lnSales\n",
      "1  No. Observations:     7950              Method:        REML\n",
      "2        No. Groups:        9               Scale:      0.1431\n",
      "3   Min. group size:      727      Log-Likelihood:  -3653.7047\n",
      "4   Max. group size:      911           Converged:         Yes\n",
      "5   Mean group size:    883.3                                 \n",
      "                                  Coef. Std.Err.       z  P>|z|  [0.025 0.975]\n",
      "C(Promo)[T.1]                     0.055    0.044   1.255  0.209  -0.031  0.141\n",
      "YearsOfPromo2                     0.157    0.009  17.543  0.000   0.140  0.175\n",
      "YearsOfCompetition                0.096    0.010   9.392  0.000   0.076  0.116\n",
      "C(Promo)[T.1]:YearsOfCompetition  0.004    0.004   0.977  0.329  -0.004  0.012\n",
      "====================================================================\n"
     ]
    }
   ],
   "source": [
    "for s, a in sales_cust_expd[[\"StoreType\", \"Assortment\"]].drop_duplicates().values.tolist()[:-1]:\n",
    "    var = \"YearsOfPromo2:YearsOfCompetition\" # 7 'C(Promo)[T.1]:YearsOfCompetition'\n",
    "    tbl = fitted_models[(s, a)][-1].summary().tables[1].loc[['C(Promo)[T.1]',\n",
    "                                                             'YearsOfPromo2',\n",
    "                                                             'YearsOfCompetition',\n",
    "                                                             'C(Promo)[T.1]:YearsOfCompetition'],:]\n",
    "    tb0 = fitted_models[(s, a)][-1].summary().tables[0]\n",
    "    print(s,a)\n",
    "    print(tb0)\n",
    "    print(tbl)\n",
    "    print(\"====================================================================\")"
   ]
  },
  {
   "cell_type": "markdown",
   "metadata": {},
   "source": [
    "From above, we see the both Promo and YearsOfPromo2 have statistically siginificant (sginificant level = 0.1) positive effect on sales, and this is true for most StoreType:Assortment combinations (\"c a\", \"a a\", \"c c\", \"a c\", \"d a\", \"d c\", \"b a\"). Given the coefficient values of Promo and YearsOfPromo2. And being currently in promo period has bigger positive effect on sales than the effect of an incremental year of promo participation. For \"b b\" combination, the estimated coefficient for Promo is not statistically significant, and only the YearsOfPromo2 is showing statistically significantly postive effect on sales. This means in most cases, the store being in a promo or the more years of participating the promo will lead to higher sales. \n",
    "\n",
    "YearsOfCompetition has statistically significant effect on sales on most cases (except the \"c a\" case). Other than that, only the \"b a\" case is showing negative effect on sales, and all others are showing positive effect on sales. This means in most one incremental year of competition has a positive effect on sales.\n",
    "\n",
    "Promo:YearsOfCompetition interaction are statistically significant in most cases (except the \"b b\" case). Among these majority cases where the interaction are significant, only one case (\"c a\") show negative interaction effect. This means in most cases effect of promo on sales increase with the increase of years of competition.\n",
    "\n",
    "In Summary, whether there is a significant positive / negative effect of Promo, YearsOfPromo2, YearsOfCompetition and Promo:YearsOfCompetition interaction depends on the StoreType and Assortment values of the store. But in most cases (StoreType-Assortment combinations), all these 4 factors show statistically significant positive effect on sales."
   ]
  },
  {
   "cell_type": "code",
   "execution_count": 99,
   "metadata": {},
   "outputs": [
    {
     "data": {
      "text/plain": [
       "0    942\n",
       "Name: Promo2, dtype: int64"
      ]
     },
     "execution_count": 99,
     "metadata": {},
     "output_type": "execute_result"
    }
   ],
   "source": [
    "invest2 = sales_cust_expd[(sales_cust_expd.StoreType==\"b\") & (sales_cust_expd.Assortment==\"c\")]\n",
    "invest2.Promo2.value_counts()"
   ]
  },
  {
   "cell_type": "markdown",
   "metadata": {},
   "source": [
    "Above shows there's no promo in the \"b c\" case."
   ]
  },
  {
   "cell_type": "markdown",
   "metadata": {},
   "source": [
    "## Task 2 - Strategies for Store Promotions & Incentivization"
   ]
  },
  {
   "cell_type": "markdown",
   "metadata": {},
   "source": [
    "### Task 2.0 - Read Data"
   ]
  },
  {
   "cell_type": "code",
   "execution_count": 8,
   "metadata": {},
   "outputs": [],
   "source": [
    "store_promos = pd.read_csv(\"../dataset/task2_data/store_promotions.csv\")"
   ]
  },
  {
   "cell_type": "code",
   "execution_count": 11,
   "metadata": {},
   "outputs": [
    {
     "data": {
      "text/html": [
       "<div>\n",
       "<style scoped>\n",
       "    .dataframe tbody tr th:only-of-type {\n",
       "        vertical-align: middle;\n",
       "    }\n",
       "\n",
       "    .dataframe tbody tr th {\n",
       "        vertical-align: top;\n",
       "    }\n",
       "\n",
       "    .dataframe thead th {\n",
       "        text-align: right;\n",
       "    }\n",
       "</style>\n",
       "<table border=\"1\" class=\"dataframe\">\n",
       "  <thead>\n",
       "    <tr style=\"text-align: right;\">\n",
       "      <th></th>\n",
       "      <th>storeid</th>\n",
       "      <th>StoreSize</th>\n",
       "      <th>StoreLayout</th>\n",
       "      <th>customerID</th>\n",
       "      <th>gender</th>\n",
       "      <th>WhoShoppingFor</th>\n",
       "      <th>Vegetarian</th>\n",
       "      <th>ShoppingStyle</th>\n",
       "      <th>CouponUser</th>\n",
       "      <th>week</th>\n",
       "      <th>CouponValue</th>\n",
       "      <th>AmountSpent</th>\n",
       "      <th>store_membership</th>\n",
       "      <th>StoreType</th>\n",
       "    </tr>\n",
       "  </thead>\n",
       "  <tbody>\n",
       "    <tr>\n",
       "      <th>0</th>\n",
       "      <td>1</td>\n",
       "      <td>Medium</td>\n",
       "      <td>No emphasis</td>\n",
       "      <td>6193-QDKCN</td>\n",
       "      <td>Male</td>\n",
       "      <td>Self and spouse</td>\n",
       "      <td>No</td>\n",
       "      <td>Often; what's on sale</td>\n",
       "      <td>From newspaper</td>\n",
       "      <td>1</td>\n",
       "      <td>05 percent</td>\n",
       "      <td>135.24</td>\n",
       "      <td>0</td>\n",
       "      <td>Neighborhood_Market</td>\n",
       "    </tr>\n",
       "    <tr>\n",
       "      <th>1</th>\n",
       "      <td>1</td>\n",
       "      <td>Medium</td>\n",
       "      <td>No emphasis</td>\n",
       "      <td>6193-QDKCN</td>\n",
       "      <td>Male</td>\n",
       "      <td>Self and spouse</td>\n",
       "      <td>No</td>\n",
       "      <td>Often; what's on sale</td>\n",
       "      <td>From newspaper</td>\n",
       "      <td>2</td>\n",
       "      <td>25 percent</td>\n",
       "      <td>128.65</td>\n",
       "      <td>0</td>\n",
       "      <td>Neighborhood_Market</td>\n",
       "    </tr>\n",
       "    <tr>\n",
       "      <th>2</th>\n",
       "      <td>1</td>\n",
       "      <td>Medium</td>\n",
       "      <td>No emphasis</td>\n",
       "      <td>6193-QDKCN</td>\n",
       "      <td>Male</td>\n",
       "      <td>Self and spouse</td>\n",
       "      <td>No</td>\n",
       "      <td>Often; what's on sale</td>\n",
       "      <td>From newspaper</td>\n",
       "      <td>3</td>\n",
       "      <td>00 No value</td>\n",
       "      <td>112.86</td>\n",
       "      <td>0</td>\n",
       "      <td>Neighborhood_Market</td>\n",
       "    </tr>\n",
       "    <tr>\n",
       "      <th>3</th>\n",
       "      <td>1</td>\n",
       "      <td>Medium</td>\n",
       "      <td>No emphasis</td>\n",
       "      <td>6193-QDKCN</td>\n",
       "      <td>Male</td>\n",
       "      <td>Self and spouse</td>\n",
       "      <td>No</td>\n",
       "      <td>Often; what's on sale</td>\n",
       "      <td>From newspaper</td>\n",
       "      <td>4</td>\n",
       "      <td>15 percent</td>\n",
       "      <td>130.14</td>\n",
       "      <td>0</td>\n",
       "      <td>Neighborhood_Market</td>\n",
       "    </tr>\n",
       "    <tr>\n",
       "      <th>4</th>\n",
       "      <td>1</td>\n",
       "      <td>Medium</td>\n",
       "      <td>No emphasis</td>\n",
       "      <td>9245-DEZSB</td>\n",
       "      <td>Male</td>\n",
       "      <td>Self and family</td>\n",
       "      <td>No</td>\n",
       "      <td>Weekly; similar items</td>\n",
       "      <td>From mailings</td>\n",
       "      <td>1</td>\n",
       "      <td>25 percent</td>\n",
       "      <td>155.61</td>\n",
       "      <td>1</td>\n",
       "      <td>Neighborhood_Market</td>\n",
       "    </tr>\n",
       "  </tbody>\n",
       "</table>\n",
       "</div>"
      ],
      "text/plain": [
       "   storeid StoreSize  StoreLayout  customerID gender   WhoShoppingFor  \\\n",
       "0        1    Medium  No emphasis  6193-QDKCN   Male  Self and spouse   \n",
       "1        1    Medium  No emphasis  6193-QDKCN   Male  Self and spouse   \n",
       "2        1    Medium  No emphasis  6193-QDKCN   Male  Self and spouse   \n",
       "3        1    Medium  No emphasis  6193-QDKCN   Male  Self and spouse   \n",
       "4        1    Medium  No emphasis  9245-DEZSB   Male  Self and family   \n",
       "\n",
       "  Vegetarian          ShoppingStyle      CouponUser  week  CouponValue  \\\n",
       "0         No  Often; what's on sale  From newspaper     1   05 percent   \n",
       "1         No  Often; what's on sale  From newspaper     2   25 percent   \n",
       "2         No  Often; what's on sale  From newspaper     3  00 No value   \n",
       "3         No  Often; what's on sale  From newspaper     4   15 percent   \n",
       "4         No  Weekly; similar items   From mailings     1   25 percent   \n",
       "\n",
       "   AmountSpent  store_membership            StoreType  \n",
       "0       135.24                 0  Neighborhood_Market  \n",
       "1       128.65                 0  Neighborhood_Market  \n",
       "2       112.86                 0  Neighborhood_Market  \n",
       "3       130.14                 0  Neighborhood_Market  \n",
       "4       155.61                 1  Neighborhood_Market  "
      ]
     },
     "execution_count": 11,
     "metadata": {},
     "output_type": "execute_result"
    }
   ],
   "source": [
    "store_promos.head()"
   ]
  },
  {
   "cell_type": "markdown",
   "metadata": {},
   "source": [
    "### Task 2.1 - EDA\n",
    "#### Find the overall data insights and patterns [customer, channel and coupons]"
   ]
  },
  {
   "cell_type": "code",
   "execution_count": 12,
   "metadata": {},
   "outputs": [
    {
     "data": {
      "text/plain": [
       "(374, 6)"
      ]
     },
     "execution_count": 12,
     "metadata": {},
     "output_type": "execute_result"
    }
   ],
   "source": [
    "# customer info\n",
    "customers = store_promos[[\"customerID\",\"gender\",\"WhoShoppingFor\", \"Vegetarian\", \"ShoppingStyle\", \"CouponUser\"]]\\\n",
    ".drop_duplicates()\n",
    "customers.shape"
   ]
  },
  {
   "cell_type": "code",
   "execution_count": 4,
   "metadata": {},
   "outputs": [],
   "source": [
    "# pp.ProfileReport(customers[[\"gender\",\"WhoShoppingFor\", \"Vegetarian\", \"ShoppingStyle\", \"CouponUser\"]])"
   ]
  },
  {
   "cell_type": "markdown",
   "metadata": {},
   "source": [
    "From above report we find there are 374 customers included in the store_promotions.csv dataset. Among them:\n",
    "* 56.7% are males whereas 43.3% are females. \n",
    "* 40.6% are shopping for self, 36.1% are shopping for self and spouse, and 23.3% are shopping for self and family.\n",
    "* 16.6% are vegetarians and 83.4% are not.\n",
    "* 60.7% shop weekly and buy similar items, 19.8% shop often and buy what's on sale, and 19.5% buy biweekly and in bulk.\n",
    "* 31.3% got coupons from mailings, 19.3% got coupons from newspaper, 26.7% got coupons from both and 22.7% use no coupon."
   ]
  },
  {
   "cell_type": "code",
   "execution_count": 9,
   "metadata": {},
   "outputs": [],
   "source": [
    "# channel info\n",
    "stores = store_promos[[\"storeid\", \"StoreSize\", \"StoreType\"]].drop_duplicates()\n",
    "# pp.ProfileReport(stores[[\"StoreSize\", \"StoreType\"]])"
   ]
  },
  {
   "cell_type": "markdown",
   "metadata": {},
   "source": [
    "From above report, we find there are 60 stores included in the store_promotions.csv dataset. Among them:\n",
    "* 46.7% are large stores, 30.0% are medium size stores and 23.3% are small stores.\n",
    "* 91.7% are neighborhood market stores and 8.3% are supercenters."
   ]
  },
  {
   "cell_type": "code",
   "execution_count": 15,
   "metadata": {},
   "outputs": [
    {
     "data": {
      "text/plain": [
       "StoreSize  StoreType          \n",
       "Large      Neighborhood_Market    202\n",
       "Medium     Neighborhood_Market     98\n",
       "           Supercenter             11\n",
       "Small      Neighborhood_Market     52\n",
       "           Supercenter             11\n",
       "dtype: int64"
      ]
     },
     "execution_count": 15,
     "metadata": {},
     "output_type": "execute_result"
    }
   ],
   "source": [
    "customer_counts_by_channel = store_promos.groupby([\"StoreSize\", \"StoreType\"])\\\n",
    ".apply(lambda x: x.customerID.drop_duplicates().count())\n",
    "customer_counts_by_channel"
   ]
  },
  {
   "cell_type": "markdown",
   "metadata": {},
   "source": [
    "It is found there are more Large Neighborhood_Market stores included in this data and less medium and small Supercenter stores included in this data. "
   ]
  },
  {
   "cell_type": "code",
   "execution_count": 16,
   "metadata": {},
   "outputs": [
    {
     "data": {
      "text/plain": [
       "374"
      ]
     },
     "execution_count": 16,
     "metadata": {},
     "output_type": "execute_result"
    }
   ],
   "source": [
    "202 + 98+11+52+11"
   ]
  },
  {
   "cell_type": "markdown",
   "metadata": {},
   "source": [
    "The above shows the number StoreSize-StoreType combination equals the number of distinct custermerID, meaning each customer only (repeatedly) go to once single store."
   ]
  },
  {
   "cell_type": "code",
   "execution_count": 17,
   "metadata": {},
   "outputs": [
    {
     "data": {
      "text/plain": [
       "15 percent     374\n",
       "25 percent     374\n",
       "05 percent     374\n",
       "00 No value    374\n",
       "Name: CouponValue, dtype: int64"
      ]
     },
     "execution_count": 17,
     "metadata": {},
     "output_type": "execute_result"
    }
   ],
   "source": [
    "# coupon info\n",
    "store_promos.CouponValue.value_counts()"
   ]
  },
  {
   "cell_type": "code",
   "execution_count": 18,
   "metadata": {},
   "outputs": [
    {
     "data": {
      "text/plain": [
       "StoreSize  StoreType                       \n",
       "Large      Neighborhood_Market  05 percent     202\n",
       "                                25 percent     202\n",
       "                                15 percent     202\n",
       "                                00 No value    202\n",
       "Medium     Neighborhood_Market  25 percent      98\n",
       "                                05 percent      98\n",
       "                                00 No value     98\n",
       "                                15 percent      98\n",
       "           Supercenter          00 No value     11\n",
       "                                05 percent      11\n",
       "                                15 percent      11\n",
       "                                25 percent      11\n",
       "Small      Neighborhood_Market  05 percent      52\n",
       "                                00 No value     52\n",
       "                                15 percent      52\n",
       "                                25 percent      52\n",
       "           Supercenter          05 percent      11\n",
       "                                15 percent      11\n",
       "                                00 No value     11\n",
       "                                25 percent      11\n",
       "Name: CouponValue, dtype: int64"
      ]
     },
     "execution_count": 18,
     "metadata": {},
     "output_type": "execute_result"
    }
   ],
   "source": [
    "store_promos.groupby([\"StoreSize\", \"StoreType\"]).apply(lambda x: x.CouponValue.value_counts())"
   ]
  },
  {
   "cell_type": "markdown",
   "metadata": {},
   "source": [
    "The above analysis shows the store_promotions.csv samples each customer's trip one time for each of the 4 discount types. "
   ]
  },
  {
   "cell_type": "code",
   "execution_count": 19,
   "metadata": {},
   "outputs": [
    {
     "data": {
      "text/html": [
       "<div>\n",
       "<style scoped>\n",
       "    .dataframe tbody tr th:only-of-type {\n",
       "        vertical-align: middle;\n",
       "    }\n",
       "\n",
       "    .dataframe tbody tr th {\n",
       "        vertical-align: top;\n",
       "    }\n",
       "\n",
       "    .dataframe thead th {\n",
       "        text-align: right;\n",
       "    }\n",
       "</style>\n",
       "<table border=\"1\" class=\"dataframe\">\n",
       "  <thead>\n",
       "    <tr style=\"text-align: right;\">\n",
       "      <th></th>\n",
       "      <th>storeid</th>\n",
       "      <th>StoreSize</th>\n",
       "      <th>StoreLayout</th>\n",
       "      <th>customerID</th>\n",
       "      <th>gender</th>\n",
       "      <th>WhoShoppingFor</th>\n",
       "      <th>Vegetarian</th>\n",
       "      <th>ShoppingStyle</th>\n",
       "      <th>CouponUser</th>\n",
       "      <th>week</th>\n",
       "      <th>CouponValue</th>\n",
       "      <th>AmountSpent</th>\n",
       "      <th>store_membership</th>\n",
       "      <th>StoreType</th>\n",
       "    </tr>\n",
       "  </thead>\n",
       "  <tbody>\n",
       "    <tr>\n",
       "      <th>12</th>\n",
       "      <td>1</td>\n",
       "      <td>Medium</td>\n",
       "      <td>No emphasis</td>\n",
       "      <td>7862-AMKML</td>\n",
       "      <td>Female</td>\n",
       "      <td>Self</td>\n",
       "      <td>No</td>\n",
       "      <td>Weekly; similar items</td>\n",
       "      <td>No</td>\n",
       "      <td>1</td>\n",
       "      <td>00 No value</td>\n",
       "      <td>80.11</td>\n",
       "      <td>1</td>\n",
       "      <td>Neighborhood_Market</td>\n",
       "    </tr>\n",
       "    <tr>\n",
       "      <th>13</th>\n",
       "      <td>1</td>\n",
       "      <td>Medium</td>\n",
       "      <td>No emphasis</td>\n",
       "      <td>7862-AMKML</td>\n",
       "      <td>Female</td>\n",
       "      <td>Self</td>\n",
       "      <td>No</td>\n",
       "      <td>Weekly; similar items</td>\n",
       "      <td>No</td>\n",
       "      <td>2</td>\n",
       "      <td>05 percent</td>\n",
       "      <td>76.88</td>\n",
       "      <td>1</td>\n",
       "      <td>Neighborhood_Market</td>\n",
       "    </tr>\n",
       "    <tr>\n",
       "      <th>14</th>\n",
       "      <td>1</td>\n",
       "      <td>Medium</td>\n",
       "      <td>No emphasis</td>\n",
       "      <td>7862-AMKML</td>\n",
       "      <td>Female</td>\n",
       "      <td>Self</td>\n",
       "      <td>No</td>\n",
       "      <td>Weekly; similar items</td>\n",
       "      <td>No</td>\n",
       "      <td>3</td>\n",
       "      <td>15 percent</td>\n",
       "      <td>83.84</td>\n",
       "      <td>1</td>\n",
       "      <td>Neighborhood_Market</td>\n",
       "    </tr>\n",
       "    <tr>\n",
       "      <th>15</th>\n",
       "      <td>1</td>\n",
       "      <td>Medium</td>\n",
       "      <td>No emphasis</td>\n",
       "      <td>7862-AMKML</td>\n",
       "      <td>Female</td>\n",
       "      <td>Self</td>\n",
       "      <td>No</td>\n",
       "      <td>Weekly; similar items</td>\n",
       "      <td>No</td>\n",
       "      <td>4</td>\n",
       "      <td>25 percent</td>\n",
       "      <td>77.31</td>\n",
       "      <td>1</td>\n",
       "      <td>Neighborhood_Market</td>\n",
       "    </tr>\n",
       "    <tr>\n",
       "      <th>56</th>\n",
       "      <td>3</td>\n",
       "      <td>Large</td>\n",
       "      <td>Emphasizes deli</td>\n",
       "      <td>6510-AAHBU</td>\n",
       "      <td>Male</td>\n",
       "      <td>Self and family</td>\n",
       "      <td>No</td>\n",
       "      <td>Weekly; similar items</td>\n",
       "      <td>No</td>\n",
       "      <td>1</td>\n",
       "      <td>25 percent</td>\n",
       "      <td>119.97</td>\n",
       "      <td>1</td>\n",
       "      <td>Neighborhood_Market</td>\n",
       "    </tr>\n",
       "  </tbody>\n",
       "</table>\n",
       "</div>"
      ],
      "text/plain": [
       "    storeid StoreSize      StoreLayout  customerID  gender   WhoShoppingFor  \\\n",
       "12        1    Medium      No emphasis  7862-AMKML  Female             Self   \n",
       "13        1    Medium      No emphasis  7862-AMKML  Female             Self   \n",
       "14        1    Medium      No emphasis  7862-AMKML  Female             Self   \n",
       "15        1    Medium      No emphasis  7862-AMKML  Female             Self   \n",
       "56        3     Large  Emphasizes deli  6510-AAHBU    Male  Self and family   \n",
       "\n",
       "   Vegetarian          ShoppingStyle CouponUser  week  CouponValue  \\\n",
       "12         No  Weekly; similar items         No     1  00 No value   \n",
       "13         No  Weekly; similar items         No     2   05 percent   \n",
       "14         No  Weekly; similar items         No     3   15 percent   \n",
       "15         No  Weekly; similar items         No     4   25 percent   \n",
       "56         No  Weekly; similar items         No     1   25 percent   \n",
       "\n",
       "    AmountSpent  store_membership            StoreType  \n",
       "12        80.11                 1  Neighborhood_Market  \n",
       "13        76.88                 1  Neighborhood_Market  \n",
       "14        83.84                 1  Neighborhood_Market  \n",
       "15        77.31                 1  Neighborhood_Market  \n",
       "56       119.97                 1  Neighborhood_Market  "
      ]
     },
     "execution_count": 19,
     "metadata": {},
     "output_type": "execute_result"
    }
   ],
   "source": [
    "store_promos[store_promos.CouponUser==\"No\"].head()"
   ]
  },
  {
   "cell_type": "markdown",
   "metadata": {},
   "source": [
    "In addition, all the CouponUser actually has non-\"00 No value\" values, this means this data is fake data and should be fixed for the non Coupon Users. Here I reset their CouponValue all to be \"00 No value\""
   ]
  },
  {
   "cell_type": "code",
   "execution_count": 20,
   "metadata": {},
   "outputs": [],
   "source": [
    "store_promos.loc[store_promos.CouponUser==\"No\",\"CouponValue\"] = \"00 No value\""
   ]
  },
  {
   "cell_type": "markdown",
   "metadata": {},
   "source": [
    "### Task 2.2 - Strategies for Store Promotions & Incentivization, Part I\n",
    "#### The retailer is planning to roll-out an online channel to provide discount coupons to the audience. You can only give discounts to certain number of customers. Which customers will you reach out to improve your sales & footprint and Why?"
   ]
  },
  {
   "cell_type": "code",
   "execution_count": 21,
   "metadata": {},
   "outputs": [
    {
     "data": {
      "text/html": [
       "<div>\n",
       "<style scoped>\n",
       "    .dataframe tbody tr th:only-of-type {\n",
       "        vertical-align: middle;\n",
       "    }\n",
       "\n",
       "    .dataframe tbody tr th {\n",
       "        vertical-align: top;\n",
       "    }\n",
       "\n",
       "    .dataframe thead th {\n",
       "        text-align: right;\n",
       "    }\n",
       "</style>\n",
       "<table border=\"1\" class=\"dataframe\">\n",
       "  <thead>\n",
       "    <tr style=\"text-align: right;\">\n",
       "      <th></th>\n",
       "      <th>storeid</th>\n",
       "      <th>StoreSize</th>\n",
       "      <th>StoreLayout</th>\n",
       "      <th>customerID</th>\n",
       "      <th>gender</th>\n",
       "      <th>WhoShoppingFor</th>\n",
       "      <th>Vegetarian</th>\n",
       "      <th>ShoppingStyle</th>\n",
       "      <th>CouponUser</th>\n",
       "      <th>week</th>\n",
       "      <th>CouponValue</th>\n",
       "      <th>AmountSpent</th>\n",
       "      <th>store_membership</th>\n",
       "      <th>StoreType</th>\n",
       "    </tr>\n",
       "  </thead>\n",
       "  <tbody>\n",
       "    <tr>\n",
       "      <th>0</th>\n",
       "      <td>1</td>\n",
       "      <td>Medium</td>\n",
       "      <td>No emphasis</td>\n",
       "      <td>6193-QDKCN</td>\n",
       "      <td>Male</td>\n",
       "      <td>Self and spouse</td>\n",
       "      <td>No</td>\n",
       "      <td>Often; what's on sale</td>\n",
       "      <td>From newspaper</td>\n",
       "      <td>1</td>\n",
       "      <td>05 percent</td>\n",
       "      <td>135.24</td>\n",
       "      <td>0</td>\n",
       "      <td>Neighborhood_Market</td>\n",
       "    </tr>\n",
       "    <tr>\n",
       "      <th>1</th>\n",
       "      <td>1</td>\n",
       "      <td>Medium</td>\n",
       "      <td>No emphasis</td>\n",
       "      <td>6193-QDKCN</td>\n",
       "      <td>Male</td>\n",
       "      <td>Self and spouse</td>\n",
       "      <td>No</td>\n",
       "      <td>Often; what's on sale</td>\n",
       "      <td>From newspaper</td>\n",
       "      <td>2</td>\n",
       "      <td>25 percent</td>\n",
       "      <td>128.65</td>\n",
       "      <td>0</td>\n",
       "      <td>Neighborhood_Market</td>\n",
       "    </tr>\n",
       "    <tr>\n",
       "      <th>2</th>\n",
       "      <td>1</td>\n",
       "      <td>Medium</td>\n",
       "      <td>No emphasis</td>\n",
       "      <td>6193-QDKCN</td>\n",
       "      <td>Male</td>\n",
       "      <td>Self and spouse</td>\n",
       "      <td>No</td>\n",
       "      <td>Often; what's on sale</td>\n",
       "      <td>From newspaper</td>\n",
       "      <td>3</td>\n",
       "      <td>00 No value</td>\n",
       "      <td>112.86</td>\n",
       "      <td>0</td>\n",
       "      <td>Neighborhood_Market</td>\n",
       "    </tr>\n",
       "    <tr>\n",
       "      <th>3</th>\n",
       "      <td>1</td>\n",
       "      <td>Medium</td>\n",
       "      <td>No emphasis</td>\n",
       "      <td>6193-QDKCN</td>\n",
       "      <td>Male</td>\n",
       "      <td>Self and spouse</td>\n",
       "      <td>No</td>\n",
       "      <td>Often; what's on sale</td>\n",
       "      <td>From newspaper</td>\n",
       "      <td>4</td>\n",
       "      <td>15 percent</td>\n",
       "      <td>130.14</td>\n",
       "      <td>0</td>\n",
       "      <td>Neighborhood_Market</td>\n",
       "    </tr>\n",
       "    <tr>\n",
       "      <th>4</th>\n",
       "      <td>1</td>\n",
       "      <td>Medium</td>\n",
       "      <td>No emphasis</td>\n",
       "      <td>9245-DEZSB</td>\n",
       "      <td>Male</td>\n",
       "      <td>Self and family</td>\n",
       "      <td>No</td>\n",
       "      <td>Weekly; similar items</td>\n",
       "      <td>From mailings</td>\n",
       "      <td>1</td>\n",
       "      <td>25 percent</td>\n",
       "      <td>155.61</td>\n",
       "      <td>1</td>\n",
       "      <td>Neighborhood_Market</td>\n",
       "    </tr>\n",
       "  </tbody>\n",
       "</table>\n",
       "</div>"
      ],
      "text/plain": [
       "   storeid StoreSize  StoreLayout  customerID gender   WhoShoppingFor  \\\n",
       "0        1    Medium  No emphasis  6193-QDKCN   Male  Self and spouse   \n",
       "1        1    Medium  No emphasis  6193-QDKCN   Male  Self and spouse   \n",
       "2        1    Medium  No emphasis  6193-QDKCN   Male  Self and spouse   \n",
       "3        1    Medium  No emphasis  6193-QDKCN   Male  Self and spouse   \n",
       "4        1    Medium  No emphasis  9245-DEZSB   Male  Self and family   \n",
       "\n",
       "  Vegetarian          ShoppingStyle      CouponUser  week  CouponValue  \\\n",
       "0         No  Often; what's on sale  From newspaper     1   05 percent   \n",
       "1         No  Often; what's on sale  From newspaper     2   25 percent   \n",
       "2         No  Often; what's on sale  From newspaper     3  00 No value   \n",
       "3         No  Often; what's on sale  From newspaper     4   15 percent   \n",
       "4         No  Weekly; similar items   From mailings     1   25 percent   \n",
       "\n",
       "   AmountSpent  store_membership            StoreType  \n",
       "0       135.24                 0  Neighborhood_Market  \n",
       "1       128.65                 0  Neighborhood_Market  \n",
       "2       112.86                 0  Neighborhood_Market  \n",
       "3       130.14                 0  Neighborhood_Market  \n",
       "4       155.61                 1  Neighborhood_Market  "
      ]
     },
     "execution_count": 21,
     "metadata": {},
     "output_type": "execute_result"
    }
   ],
   "source": [
    "store_promos.head()"
   ]
  },
  {
   "cell_type": "markdown",
   "metadata": {},
   "source": [
    "Since above EDA tells us that each customer only go to one store, and has only one record for each Coupon Value, we can essentially calculate the elasticity of AmountSpent on CouponValue for each customer and do the recommendation given his/her elasticity. "
   ]
  },
  {
   "cell_type": "code",
   "execution_count": 22,
   "metadata": {},
   "outputs": [],
   "source": [
    "def elasticity(df):\n",
    "    AS = df.sort_values(\"CouponValue\")[\"AmountSpent\"].values\n",
    "    AS += 0.0001\n",
    "    nums = [(x - AS[0])/AS[0] for x in AS[1:]]\n",
    "    dens = [-x/100 for x in [5, 15, 25]]\n",
    "    s = pd.Series([x/y for x,y in zip(nums, dens)])\n",
    "    s.index = [\"5%\", \"15%\", \"25%\"]\n",
    "    return s"
   ]
  },
  {
   "cell_type": "code",
   "execution_count": 23,
   "metadata": {},
   "outputs": [],
   "source": [
    "def customer_recommendation_for_coupons(elasticity_thrld=-5):\n",
    "    elasticity_res = store_promos.groupby(\"customerID\").apply(elasticity)\n",
    "    # the first criteria is to see if the negative elacity is big enough, the second criteria is \n",
    "    # to avoid the cases where AmountSpent of \"00 No value\" is smaller than 0.01 USD.\n",
    "    cond1 = ((elasticity_res[\"5%\"] < elasticity_thrld) & (elasticity_res[\"5%\"]>-10**5))\n",
    "    cond2 = ((elasticity_res[\"15%\"] < elasticity_thrld) & (elasticity_res[\"15%\"]>-10**5))\n",
    "    cond3 = ((elasticity_res[\"25%\"] < elasticity_thrld) & (elasticity_res[\"25%\"]>-10**5))\n",
    "    res = elasticity_res[cond1 | cond2 | cond3 ]\n",
    "    print(res)\n",
    "    print(res < elasticity_thrld)\n",
    "    return res"
   ]
  },
  {
   "cell_type": "code",
   "execution_count": 30,
   "metadata": {},
   "outputs": [
    {
     "name": "stdout",
     "output_type": "stream",
     "text": [
      "                    5%         15%         25%\n",
      "customerID                                    \n",
      "0155-IZVLG   -4.213593   -0.692044   -0.711988\n",
      "0826-YWEHA   -4.774079   -2.506137   -0.982621\n",
      "1292-DMLIO -618.764690    6.666569 -129.376213\n",
      "1665-DFZQY   -4.094206   -0.964238   -1.077816\n",
      "1709-ICFXL -363.093628   -1.467648  -68.995625\n",
      "1821-NHKHV -496.300589    6.666577 -108.063234\n",
      "1827-LWWCD -241.517425   -1.639920  -50.870316\n",
      "2244-AYZUM   -4.604616   -2.558546   -1.896289\n",
      "2496-IMEIQ   -7.700515   -3.369287   -1.806257\n",
      "2657-EVEQJ   -5.418285   -2.219744   -1.805947\n",
      "3118-UAIXT   -5.007184   -2.150226   -0.903287\n",
      "3614-ATKGN   -5.457732   -1.146491   -1.494262\n",
      "3760-PJZMF   -4.020952   -2.011931   -0.768390\n",
      "4588-TPMPP   -4.476689   -2.323934   -1.534466\n",
      "4710-MHJUS   -4.866661   -1.527597   -1.040859\n",
      "5069-ISCFT -684.906147    6.666566 -159.287416\n",
      "5169-RLQMD   -4.734992   -1.198087   -0.684439\n",
      "5226-DQMNK   -7.271333   -3.420073   -1.849335\n",
      "5409-OUCAM -428.250965    6.666600  -92.708946\n",
      "5511-JOUNL   -4.279022   -1.723178   -1.323894\n",
      "5541-NMAHA   -5.780907   -2.585141   -1.512299\n",
      "5849-RTOXV   -4.187582   -1.581026   -0.429868\n",
      "5880-FHHWI   -5.975066   -2.121210   -1.336753\n",
      "5978-OQWCJ   19.999801 -204.804322 -122.958064\n",
      "6126-QGKXG   -4.589992   -1.887880   -1.618823\n",
      "6184-IEHQV   -4.220349   -1.785746   -0.980127\n",
      "6338-EMHAS   19.999867 -101.229617  -60.918981\n",
      "6454-TKWCQ   -9.392009   -2.892938   -1.228495\n",
      "6588-HKAAB   -4.458276   -1.430467   -1.230385\n",
      "7150-IMBEL   -2.511872   -4.310849   -2.218210\n",
      "7666-CYQPW   -4.348538   -2.573410   -0.927524\n",
      "7863-NSDDD   -6.268190   -2.505219   -2.093510\n",
      "8069-JWRYL   -9.111621   -2.122515   -1.916366\n",
      "8751-BHXVJ   -4.345723   -2.500561   -1.472524\n",
      "9074-YQGRY   -5.237290   -1.352141   -0.730567\n",
      "9096-DXYNN -671.275381   -0.085744 -145.155223\n",
      "9439-GTZQH -479.992604    6.666564  -99.628665\n",
      "9785-KCBYU -787.411582   -1.504992 -157.890336\n",
      "9939-EDLJX   -4.180406   -0.049472   -0.850593\n",
      "               5%    15%    25%\n",
      "customerID                     \n",
      "0155-IZVLG   True  False  False\n",
      "0826-YWEHA   True  False  False\n",
      "1292-DMLIO   True  False   True\n",
      "1665-DFZQY   True  False  False\n",
      "1709-ICFXL   True  False   True\n",
      "1821-NHKHV   True  False   True\n",
      "1827-LWWCD   True  False   True\n",
      "2244-AYZUM   True  False  False\n",
      "2496-IMEIQ   True  False  False\n",
      "2657-EVEQJ   True  False  False\n",
      "3118-UAIXT   True  False  False\n",
      "3614-ATKGN   True  False  False\n",
      "3760-PJZMF   True  False  False\n",
      "4588-TPMPP   True  False  False\n",
      "4710-MHJUS   True  False  False\n",
      "5069-ISCFT   True  False   True\n",
      "5169-RLQMD   True  False  False\n",
      "5226-DQMNK   True  False  False\n",
      "5409-OUCAM   True  False   True\n",
      "5511-JOUNL   True  False  False\n",
      "5541-NMAHA   True  False  False\n",
      "5849-RTOXV   True  False  False\n",
      "5880-FHHWI   True  False  False\n",
      "5978-OQWCJ  False   True   True\n",
      "6126-QGKXG   True  False  False\n",
      "6184-IEHQV   True  False  False\n",
      "6338-EMHAS  False   True   True\n",
      "6454-TKWCQ   True  False  False\n",
      "6588-HKAAB   True  False  False\n",
      "7150-IMBEL  False   True  False\n",
      "7666-CYQPW   True  False  False\n",
      "7863-NSDDD   True  False  False\n",
      "8069-JWRYL   True  False  False\n",
      "8751-BHXVJ   True  False  False\n",
      "9074-YQGRY   True  False  False\n",
      "9096-DXYNN   True  False   True\n",
      "9439-GTZQH   True  False   True\n",
      "9785-KCBYU   True  False   True\n",
      "9939-EDLJX   True  False  False\n"
     ]
    }
   ],
   "source": [
    "res = customer_recommendation_for_coupons(-4)"
   ]
  },
  {
   "cell_type": "markdown",
   "metadata": {},
   "source": [
    "According to the threshold of elasticity (maximum value of elasticity for which we would like engage), I recommend to give coupons to above customerIDs, and offer coupon types (\"5%\", \"15%\", and \"25%\") whenever the value in the above table is True. If there are multiple coupon values identified to be True, I recommend to offer the coupon value with largest absolute value of elasticity.\n",
    "\n",
    "Similar recommendation tables can be produced if the threshold of elasticity is set to another value."
   ]
  },
  {
   "cell_type": "markdown",
   "metadata": {},
   "source": [
    "### Task 3.3 - Strategies for Store Promotions & Incentivization, Part II\n",
    "#### The business is launching a new product in its stores and are looking for those stores in which they should first launch. In order to promote this new item, can you recommend them which promotion medium they should use, which stores to target and which customers to choose to promote this new item? What factors will you look at?"
   ]
  },
  {
   "cell_type": "markdown",
   "metadata": {},
   "source": [
    "* Promotion medium: We can count the number of elastic customer's coupon median types, the most used median types can be used for new product promotion.\n",
    "* Store selection: Stores that have effective promotions (having elastic customers), and that sells the same category with steady and large enough demands. Since the category info is not available, I will try find stores with elastic customers where these elastic customers spent the most.\n",
    "* Customer selection: Category buyer with low brand preference and high elasticity. Since the available data does not offer the category and brand preference information, we can now just focus on customer elasticity."
   ]
  },
  {
   "cell_type": "code",
   "execution_count": 35,
   "metadata": {},
   "outputs": [
    {
     "data": {
      "text/plain": [
       "From mailings     64\n",
       "From both         48\n",
       "No                24\n",
       "From newspaper    20\n",
       "Name: CouponUser, dtype: int64"
      ]
     },
     "execution_count": 35,
     "metadata": {},
     "output_type": "execute_result"
    }
   ],
   "source": [
    "elastic_customers = store_promos[store_promos.customerID.isin(res.index)]\n",
    "elastic_customers.CouponUser.value_counts()"
   ]
  },
  {
   "cell_type": "markdown",
   "metadata": {},
   "source": [
    "From above, we learn promotion through mailing is prefered, since more elastic customers purchased products after being offered the product promotion through mailing."
   ]
  },
  {
   "cell_type": "code",
   "execution_count": 42,
   "metadata": {},
   "outputs": [
    {
     "data": {
      "text/html": [
       "<div>\n",
       "<style scoped>\n",
       "    .dataframe tbody tr th:only-of-type {\n",
       "        vertical-align: middle;\n",
       "    }\n",
       "\n",
       "    .dataframe tbody tr th {\n",
       "        vertical-align: top;\n",
       "    }\n",
       "\n",
       "    .dataframe thead th {\n",
       "        text-align: right;\n",
       "    }\n",
       "</style>\n",
       "<table border=\"1\" class=\"dataframe\">\n",
       "  <thead>\n",
       "    <tr style=\"text-align: right;\">\n",
       "      <th></th>\n",
       "      <th>AmountSpent</th>\n",
       "    </tr>\n",
       "    <tr>\n",
       "      <th>storeid</th>\n",
       "      <th></th>\n",
       "    </tr>\n",
       "  </thead>\n",
       "  <tbody>\n",
       "    <tr>\n",
       "      <th>8</th>\n",
       "      <td>1592.39</td>\n",
       "    </tr>\n",
       "    <tr>\n",
       "      <th>6</th>\n",
       "      <td>1070.94</td>\n",
       "    </tr>\n",
       "    <tr>\n",
       "      <th>24</th>\n",
       "      <td>998.72</td>\n",
       "    </tr>\n",
       "    <tr>\n",
       "      <th>10</th>\n",
       "      <td>997.41</td>\n",
       "    </tr>\n",
       "    <tr>\n",
       "      <th>27</th>\n",
       "      <td>997.08</td>\n",
       "    </tr>\n",
       "    <tr>\n",
       "      <th>46</th>\n",
       "      <td>985.21</td>\n",
       "    </tr>\n",
       "    <tr>\n",
       "      <th>19</th>\n",
       "      <td>930.32</td>\n",
       "    </tr>\n",
       "    <tr>\n",
       "      <th>13</th>\n",
       "      <td>907.51</td>\n",
       "    </tr>\n",
       "    <tr>\n",
       "      <th>11</th>\n",
       "      <td>837.12</td>\n",
       "    </tr>\n",
       "    <tr>\n",
       "      <th>14</th>\n",
       "      <td>705.86</td>\n",
       "    </tr>\n",
       "  </tbody>\n",
       "</table>\n",
       "</div>"
      ],
      "text/plain": [
       "         AmountSpent\n",
       "storeid             \n",
       "8            1592.39\n",
       "6            1070.94\n",
       "24            998.72\n",
       "10            997.41\n",
       "27            997.08\n",
       "46            985.21\n",
       "19            930.32\n",
       "13            907.51\n",
       "11            837.12\n",
       "14            705.86"
      ]
     },
     "execution_count": 42,
     "metadata": {},
     "output_type": "execute_result"
    }
   ],
   "source": [
    "elastic_customers.groupby([\"storeid\"])[[\"AmountSpent\"]].sum(\"AmountSpent\")\\\n",
    ".sort_values(\"AmountSpent\", ascending=False).head(10)"
   ]
  },
  {
   "cell_type": "markdown",
   "metadata": {},
   "source": [
    "Above 10 stores are the stores (storeid: 8, 6, 24, 10, 27, 46, 19, 13, 11, 14) where elastic customers spent the most, I recommend to launch the new product in these 10 stores first. (The total number stores can be different according to budget for product launching.) In future, if the product category information and the store assortment details are available, I will recommend launching the product to stores where its category is sold."
   ]
  },
  {
   "cell_type": "code",
   "execution_count": 44,
   "metadata": {},
   "outputs": [
    {
     "data": {
      "text/plain": [
       "Index(['0155-IZVLG', '0826-YWEHA', '1292-DMLIO', '1665-DFZQY', '1709-ICFXL',\n",
       "       '1821-NHKHV', '1827-LWWCD', '2244-AYZUM', '2496-IMEIQ', '2657-EVEQJ',\n",
       "       '3118-UAIXT', '3614-ATKGN', '3760-PJZMF', '4588-TPMPP', '4710-MHJUS',\n",
       "       '5069-ISCFT', '5169-RLQMD', '5226-DQMNK', '5409-OUCAM', '5511-JOUNL',\n",
       "       '5541-NMAHA', '5849-RTOXV', '5880-FHHWI', '5978-OQWCJ', '6126-QGKXG',\n",
       "       '6184-IEHQV', '6338-EMHAS', '6454-TKWCQ', '6588-HKAAB', '7150-IMBEL',\n",
       "       '7666-CYQPW', '7863-NSDDD', '8069-JWRYL', '8751-BHXVJ', '9074-YQGRY',\n",
       "       '9096-DXYNN', '9439-GTZQH', '9785-KCBYU', '9939-EDLJX'],\n",
       "      dtype='object', name='customerID')"
      ]
     },
     "execution_count": 44,
     "metadata": {},
     "output_type": "execute_result"
    }
   ],
   "source": [
    "res.index"
   ]
  },
  {
   "cell_type": "markdown",
   "metadata": {},
   "source": [
    "Given the customer elasticity I recommend to promote the elastic customers as obatined from Task 2.2. In future, if given the purchase category information and brand preference (i.e. prefered_brand_annual_spent/category_annual_spent of a customer) information. I would also leverage the latter two factors in customer selection. "
   ]
  },
  {
   "cell_type": "code",
   "execution_count": null,
   "metadata": {},
   "outputs": [],
   "source": []
  }
 ],
 "metadata": {
  "kernelspec": {
   "display_name": "Python 3",
   "language": "python",
   "name": "python3"
  },
  "language_info": {
   "codemirror_mode": {
    "name": "ipython",
    "version": 3
   },
   "file_extension": ".py",
   "mimetype": "text/x-python",
   "name": "python",
   "nbconvert_exporter": "python",
   "pygments_lexer": "ipython3",
   "version": "3.7.6"
  }
 },
 "nbformat": 4,
 "nbformat_minor": 4
}
